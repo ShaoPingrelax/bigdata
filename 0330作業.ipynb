{
  "nbformat": 4,
  "nbformat_minor": 0,
  "metadata": {
    "colab": {
      "name": "0330作業.ipynb",
      "provenance": [],
      "collapsed_sections": [],
      "include_colab_link": true
    },
    "kernelspec": {
      "name": "ir",
      "display_name": "R"
    }
  },
  "cells": [
    {
      "cell_type": "markdown",
      "metadata": {
        "id": "view-in-github",
        "colab_type": "text"
      },
      "source": [
        "<a href=\"https://colab.research.google.com/github/ShaoPingrelax/bigdata/blob/main/0330%E4%BD%9C%E6%A5%AD.ipynb\" target=\"_parent\"><img src=\"https://colab.research.google.com/assets/colab-badge.svg\" alt=\"Open In Colab\"/></a>"
      ]
    },
    {
      "cell_type": "code",
      "metadata": {
        "colab": {
          "base_uri": "https://localhost:8080/"
        },
        "id": "QrRwqRgwM1O9",
        "outputId": "68e6cb6a-6341-4cf1-81e2-870cbecefbf1"
      },
      "source": [
        "install.packages(\"rJava\")"
      ],
      "execution_count": 19,
      "outputs": [
        {
          "output_type": "stream",
          "text": [
            "Installing package into ‘/usr/local/lib/R/site-library’\n",
            "(as ‘lib’ is unspecified)\n",
            "\n"
          ],
          "name": "stderr"
        }
      ]
    },
    {
      "cell_type": "code",
      "metadata": {
        "colab": {
          "base_uri": "https://localhost:8080/"
        },
        "id": "DE_sBOqDNLA9",
        "outputId": "5de7a6f4-53bf-4ef7-cfd0-9f2fafb29261"
      },
      "source": [
        "install.packages(\"jiebaR\")"
      ],
      "execution_count": 20,
      "outputs": [
        {
          "output_type": "stream",
          "text": [
            "Installing package into ‘/usr/local/lib/R/site-library’\n",
            "(as ‘lib’ is unspecified)\n",
            "\n",
            "also installing the dependency ‘jiebaRD’\n",
            "\n",
            "\n"
          ],
          "name": "stderr"
        }
      ]
    },
    {
      "cell_type": "code",
      "metadata": {
        "colab": {
          "base_uri": "https://localhost:8080/"
        },
        "id": "nlCOyqjJNQn0",
        "outputId": "24d779fe-2875-42c0-cf6d-50fc4cf5c31f"
      },
      "source": [
        "install.packages(\"tmcn\")"
      ],
      "execution_count": 21,
      "outputs": [
        {
          "output_type": "stream",
          "text": [
            "Installing package into ‘/usr/local/lib/R/site-library’\n",
            "(as ‘lib’ is unspecified)\n",
            "\n"
          ],
          "name": "stderr"
        }
      ]
    },
    {
      "cell_type": "code",
      "metadata": {
        "colab": {
          "base_uri": "https://localhost:8080/"
        },
        "id": "3Ct-MX27NUJ9",
        "outputId": "a343fcc4-7b1c-4296-b2d1-45473245db0d"
      },
      "source": [
        "install.packages(\"dplyr\")"
      ],
      "execution_count": 22,
      "outputs": [
        {
          "output_type": "stream",
          "text": [
            "Installing package into ‘/usr/local/lib/R/site-library’\n",
            "(as ‘lib’ is unspecified)\n",
            "\n"
          ],
          "name": "stderr"
        }
      ]
    },
    {
      "cell_type": "code",
      "metadata": {
        "colab": {
          "base_uri": "https://localhost:8080/"
        },
        "id": "uugLI244NZ_M",
        "outputId": "d420b300-4947-4ab1-9560-bc1c94507328"
      },
      "source": [
        "install.packages(\"lubridate\")"
      ],
      "execution_count": 23,
      "outputs": [
        {
          "output_type": "stream",
          "text": [
            "Installing package into ‘/usr/local/lib/R/site-library’\n",
            "(as ‘lib’ is unspecified)\n",
            "\n"
          ],
          "name": "stderr"
        }
      ]
    },
    {
      "cell_type": "code",
      "metadata": {
        "colab": {
          "base_uri": "https://localhost:8080/"
        },
        "id": "UoU6eCjmNent",
        "outputId": "942f8921-f582-47c2-c091-8679440640d4"
      },
      "source": [
        "install.packages(\"stringr\")"
      ],
      "execution_count": 24,
      "outputs": [
        {
          "output_type": "stream",
          "text": [
            "Installing package into ‘/usr/local/lib/R/site-library’\n",
            "(as ‘lib’ is unspecified)\n",
            "\n"
          ],
          "name": "stderr"
        }
      ]
    },
    {
      "cell_type": "code",
      "metadata": {
        "colab": {
          "base_uri": "https://localhost:8080/"
        },
        "id": "p5KQNanJNlWV",
        "outputId": "bbdd1c20-421a-42c8-918c-f7747a0d4947"
      },
      "source": [
        "install.packages(\"wordcloud\")"
      ],
      "execution_count": 25,
      "outputs": [
        {
          "output_type": "stream",
          "text": [
            "Installing package into ‘/usr/local/lib/R/site-library’\n",
            "(as ‘lib’ is unspecified)\n",
            "\n"
          ],
          "name": "stderr"
        }
      ]
    },
    {
      "cell_type": "code",
      "metadata": {
        "colab": {
          "base_uri": "https://localhost:8080/"
        },
        "id": "POxIOiGUNp8l",
        "outputId": "725bd106-a8d7-439b-c813-58b00f5d41dc"
      },
      "source": [
        "install.packages(\"Rwordseg\",repos = \"http://R-Forge.R-roject.org\")"
      ],
      "execution_count": 26,
      "outputs": [
        {
          "output_type": "stream",
          "text": [
            "Installing package into ‘/usr/local/lib/R/site-library’\n",
            "(as ‘lib’ is unspecified)\n",
            "\n",
            "Warning message:\n",
            "“unable to access index for repository http://R-Forge.R-roject.org/src/contrib:\n",
            "  cannot open URL 'http://R-Forge.R-roject.org/src/contrib/PACKAGES'”\n",
            "Warning message:\n",
            "“package ‘Rwordseg’ is not available for this version of R\n",
            "\n",
            "A version of this package for your version of R might be available elsewhere,\n",
            "see the ideas at\n",
            "https://cran.r-project.org/doc/manuals/r-patched/R-admin.html#Installing-packages”\n"
          ],
          "name": "stderr"
        }
      ]
    },
    {
      "cell_type": "code",
      "metadata": {
        "id": "PRYw1uVgOLjf",
        "colab": {
          "base_uri": "https://localhost:8080/"
        },
        "outputId": "361edded-ae2d-4058-dba9-2931c931c5e1"
      },
      "source": [
        "library(dplyr)"
      ],
      "execution_count": 27,
      "outputs": [
        {
          "output_type": "stream",
          "text": [
            "\n",
            "Attaching package: ‘dplyr’\n",
            "\n",
            "\n",
            "The following objects are masked from ‘package:stats’:\n",
            "\n",
            "    filter, lag\n",
            "\n",
            "\n",
            "The following objects are masked from ‘package:base’:\n",
            "\n",
            "    intersect, setdiff, setequal, union\n",
            "\n",
            "\n"
          ],
          "name": "stderr"
        }
      ]
    },
    {
      "cell_type": "code",
      "metadata": {
        "id": "il8LT3uxOOmF",
        "colab": {
          "base_uri": "https://localhost:8080/"
        },
        "outputId": "89d87c38-16cc-4bdb-cb49-5c567b05d157"
      },
      "source": [
        "library(lubridate)"
      ],
      "execution_count": 28,
      "outputs": [
        {
          "output_type": "stream",
          "text": [
            "Warning message in system(\"timedatectl\", intern = TRUE):\n",
            "“running command 'timedatectl' had status 1”\n",
            "\n",
            "Attaching package: ‘lubridate’\n",
            "\n",
            "\n",
            "The following objects are masked from ‘package:base’:\n",
            "\n",
            "    date, intersect, setdiff, union\n",
            "\n",
            "\n"
          ],
          "name": "stderr"
        }
      ]
    },
    {
      "cell_type": "code",
      "metadata": {
        "id": "6KwpZZN-OT1V"
      },
      "source": [
        "library(stringr)"
      ],
      "execution_count": 29,
      "outputs": []
    },
    {
      "cell_type": "code",
      "metadata": {
        "id": "nVBfO3lPOZ_F",
        "colab": {
          "base_uri": "https://localhost:8080/"
        },
        "outputId": "dae3bf5b-d882-4128-cacf-c4a031376056"
      },
      "source": [
        "library(jiebaR)"
      ],
      "execution_count": 30,
      "outputs": [
        {
          "output_type": "stream",
          "text": [
            "Loading required package: jiebaRD\n",
            "\n"
          ],
          "name": "stderr"
        }
      ]
    },
    {
      "cell_type": "code",
      "metadata": {
        "id": "CTBNc9FBOerO",
        "colab": {
          "base_uri": "https://localhost:8080/"
        },
        "outputId": "c71f7c23-36b6-441a-8a26-7433d656da96"
      },
      "source": [
        "library(wordcloud)"
      ],
      "execution_count": 31,
      "outputs": [
        {
          "output_type": "stream",
          "text": [
            "Loading required package: RColorBrewer\n",
            "\n"
          ],
          "name": "stderr"
        }
      ]
    },
    {
      "cell_type": "code",
      "metadata": {
        "id": "l8AbjpNVfI_b"
      },
      "source": [
        "content <- \"衛生福利部健保署統計，2018年花費全民健康保險支出的前十大疾病中，急慢性腎臟病、糖尿病、高血壓、缺血性心臟病皆為慢性疾病，初步研究與飲食有關；衛福部長陳時中說，「營養及健康飲食促進法」民國107年已送進行政院去，經過幾年廣泛討論，今年初步列為優先法案，希望這會期能討論到。台灣民眾黨立法院黨團邀集衛福部、國健署、農委會輔導處等政府官員代表，以及民進黨立委吳玉琴、專家學者和民間團體，針對「營養及健康飲食促進法」立法現況與困境進行討論與意見交流。陳時中說，對於飲食慢性傷害，其實以前都沒這麼重視，健康飲食跟食品安全一樣重要，時代已相當進步，不管是農委會或是食藥署，對食品安全監測，都到達一定的安全水準，現在開始說如何吃得更好，因此提出營養飲食促進法。陳時中說，希望透過此法，將各項促進飲食概念都能在法案中表現，雖然現在還未正式立法，但相關行動已展開，中央與地方一起把這件事情做好，例如健康飲食調查，還有一些基準設定，3月10日也開始第一次諮詢會，法還沒實施，但基本架構，該做的事情不怠慢，盡早凝聚共識，有秩序進行。民眾黨立委蔡壁如指出，健康的飲食有助於降低肥胖及預防慢性病如高血壓、心臟疾病、第二型糖尿病與中風等危機，也能讓國人更健康，這也是「營養及健康飲食促進法」最主要的宗旨，粗估若「三高」的人口減少1%，每年將減少幾十億元的健保支出。\n",
        "\""
      ],
      "execution_count": 32,
      "outputs": []
    },
    {
      "cell_type": "code",
      "metadata": {
        "id": "zrbvlLAdOtE2"
      },
      "source": [
        "cutter <- worker(bylines = F)"
      ],
      "execution_count": 33,
      "outputs": []
    },
    {
      "cell_type": "code",
      "metadata": {
        "colab": {
          "base_uri": "https://localhost:8080/",
          "height": 136
        },
        "id": "xKkrna46O4oe",
        "outputId": "4c6417b7-4ba8-4531-a665-bce8965d372b"
      },
      "source": [
        "cutter[content]"
      ],
      "execution_count": 34,
      "outputs": [
        {
          "output_type": "display_data",
          "data": {
            "text/plain": [
              "  [1] \"衛生\"     \"福利部\"   \"健保署\"   \"統計\"     \"2018\"     \"年\"      \n",
              "  [7] \"花費\"     \"全民\"     \"健康\"     \"保險\"     \"支出\"     \"的\"      \n",
              " [13] \"前\"       \"十大\"     \"疾病\"     \"中\"       \"急慢性\"   \"腎臟病\"  \n",
              " [19] \"糖尿病\"   \"高血壓\"   \"缺血性\"   \"心臟病\"   \"皆\"       \"為\"      \n",
              " [25] \"慢性\"     \"疾病\"     \"初步\"     \"研究\"     \"與\"       \"飲食\"    \n",
              " [31] \"有關\"     \"衛\"       \"福\"       \"部長\"     \"陳\"       \"時\"      \n",
              " [37] \"中\"       \"說\"       \"營養\"     \"及\"       \"健康\"     \"飲食\"    \n",
              " [43] \"促進法\"   \"民國\"     \"107\"      \"年\"       \"已\"       \"送\"      \n",
              " [49] \"進\"       \"行政院\"   \"去\"       \"經過\"     \"幾年\"     \"廣泛\"    \n",
              " [55] \"討論\"     \"今年\"     \"初步\"     \"列為\"     \"優先\"     \"法案\"    \n",
              " [61] \"希望\"     \"這\"       \"會期\"     \"能\"       \"討論\"     \"到\"      \n",
              " [67] \"台灣民眾\" \"黨\"       \"立法院\"   \"黨團\"     \"邀集\"     \"衛福部\"  \n",
              " [73] \"國\"       \"健\"       \"署\"       \"農委會\"   \"輔導處\"   \"等\"      \n",
              " [79] \"政府\"     \"官員\"     \"代表\"     \"以及\"     \"民進黨\"   \"立委\"    \n",
              " [85] \"吳玉琴\"   \"專家學者\" \"和\"       \"民間團體\" \"針對\"     \"營養\"    \n",
              " [91] \"及\"       \"健康\"     \"飲食\"     \"促進法\"   \"立法\"     \"現況\"    \n",
              " [97] \"與\"       \"困境\"     \"進行\"     \"討論\"     \"與\"       \"意見\"    \n",
              "[103] \"交流\"     \"陳\"       \"時\"       \"中\"       \"說\"       \"對於\"    \n",
              "[109] \"飲食\"     \"慢性傷害\" \"其實\"     \"以前\"     \"都\"       \"沒\"      \n",
              "[115] \"這麼\"     \"重視\"     \"健康\"     \"飲食\"     \"跟\"       \"食品安全\"\n",
              "[121] \"一樣\"     \"重要\"     \"時代\"     \"已\"       \"相當\"     \"進步\"    \n",
              "[127] \"不管\"     \"是\"       \"農委會\"   \"或是\"     \"食藥署\"   \"對\"      \n",
              "[133] \"食品安全\" \"監測\"     \"都\"       \"到達\"     \"一定\"     \"的\"      \n",
              "[139] \"安全\"     \"水準\"     \"現在\"     \"開始\"     \"說\"       \"如何\"    \n",
              "[145] \"吃\"       \"得\"       \"更好\"     \"因此\"     \"提出\"     \"營養\"    \n",
              "[151] \"飲食\"     \"促進法\"   \"陳\"       \"時\"       \"中\"       \"說\"      \n",
              "[157] \"希望\"     \"透過\"     \"此法\"     \"將\"       \"各項\"     \"促進\"    \n",
              "[163] \"飲食\"     \"概念\"     \"都\"       \"能\"       \"在\"       \"法案\"    \n",
              "[169] \"中\"       \"表現\"     \"雖然\"     \"現在\"     \"還未\"     \"正式\"    \n",
              "[175] \"立法\"     \"但\"       \"相關\"     \"行動\"     \"已\"       \"展開\"    \n",
              "[181] \"中央\"     \"與\"       \"地方\"     \"一起\"     \"把\"       \"這件\"    \n",
              "[187] \"事情\"     \"做好\"     \"例如\"     \"健康\"     \"飲食\"     \"調查\"    \n",
              "[193] \"還有\"     \"一些\"     \"基準\"     \"設定\"     \"3\"        \"月\"      \n",
              "[199] \"10\"       \"日\"       \"也\"       \"開始\"     \"第一次\"   \"諮詢會\"  \n",
              "[205] \"法還\"     \"沒\"       \"實施\"     \"但\"       \"基本\"     \"架構\"    \n",
              "[211] \"該\"       \"做\"       \"的\"       \"事情\"     \"不\"       \"怠慢\"    \n",
              "[217] \"盡早\"     \"凝聚\"     \"共識\"     \"有\"       \"秩序\"     \"進行\"    \n",
              "[223] \"民眾\"     \"黨立委\"   \"蔡壁\"     \"如\"       \"指出\"     \"健康\"    \n",
              "[229] \"的\"       \"飲食\"     \"有助於\"   \"降低\"     \"肥胖\"     \"及\"      \n",
              "[235] \"預防\"     \"慢性病\"   \"如\"       \"高血壓\"   \"心臟\"     \"疾病\"    \n",
              "[241] \"第二\"     \"型\"       \"糖尿病\"   \"與\"       \"中風\"     \"等\"      \n",
              "[247] \"危機\"     \"也\"       \"能\"       \"讓\"       \"國人\"     \"更\"      \n",
              "[253] \"健康\"     \"這也是\"   \"營養\"     \"及\"       \"健康\"     \"飲食\"    \n",
              "[259] \"促進法\"   \"最\"       \"主要\"     \"的\"       \"宗旨\"     \"粗估\"    \n",
              "[265] \"若\"       \"三\"       \"高\"       \"的\"       \"人口減少\" \"1\"       \n",
              "[271] \"每年\"     \"將\"       \"減少\"     \"幾十\"     \"億元\"     \"的\"      \n",
              "[277] \"健保\"     \"支出\"    "
            ],
            "text/latex": "\\begin{enumerate*}\n\\item '衛生'\n\\item '福利部'\n\\item '健保署'\n\\item '統計'\n\\item '2018'\n\\item '年'\n\\item '花費'\n\\item '全民'\n\\item '健康'\n\\item '保險'\n\\item '支出'\n\\item '的'\n\\item '前'\n\\item '十大'\n\\item '疾病'\n\\item '中'\n\\item '急慢性'\n\\item '腎臟病'\n\\item '糖尿病'\n\\item '高血壓'\n\\item '缺血性'\n\\item '心臟病'\n\\item '皆'\n\\item '為'\n\\item '慢性'\n\\item '疾病'\n\\item '初步'\n\\item '研究'\n\\item '與'\n\\item '飲食'\n\\item '有關'\n\\item '衛'\n\\item '福'\n\\item '部長'\n\\item '陳'\n\\item '時'\n\\item '中'\n\\item '說'\n\\item '營養'\n\\item '及'\n\\item '健康'\n\\item '飲食'\n\\item '促進法'\n\\item '民國'\n\\item '107'\n\\item '年'\n\\item '已'\n\\item '送'\n\\item '進'\n\\item '行政院'\n\\item '去'\n\\item '經過'\n\\item '幾年'\n\\item '廣泛'\n\\item '討論'\n\\item '今年'\n\\item '初步'\n\\item '列為'\n\\item '優先'\n\\item '法案'\n\\item '希望'\n\\item '這'\n\\item '會期'\n\\item '能'\n\\item '討論'\n\\item '到'\n\\item '台灣民眾'\n\\item '黨'\n\\item '立法院'\n\\item '黨團'\n\\item '邀集'\n\\item '衛福部'\n\\item '國'\n\\item '健'\n\\item '署'\n\\item '農委會'\n\\item '輔導處'\n\\item '等'\n\\item '政府'\n\\item '官員'\n\\item '代表'\n\\item '以及'\n\\item '民進黨'\n\\item '立委'\n\\item '吳玉琴'\n\\item '專家學者'\n\\item '和'\n\\item '民間團體'\n\\item '針對'\n\\item '營養'\n\\item '及'\n\\item '健康'\n\\item '飲食'\n\\item '促進法'\n\\item '立法'\n\\item '現況'\n\\item '與'\n\\item '困境'\n\\item '進行'\n\\item '討論'\n\\item '與'\n\\item '意見'\n\\item '交流'\n\\item '陳'\n\\item '時'\n\\item '中'\n\\item '說'\n\\item '對於'\n\\item '飲食'\n\\item '慢性傷害'\n\\item '其實'\n\\item '以前'\n\\item '都'\n\\item '沒'\n\\item '這麼'\n\\item '重視'\n\\item '健康'\n\\item '飲食'\n\\item '跟'\n\\item '食品安全'\n\\item '一樣'\n\\item '重要'\n\\item '時代'\n\\item '已'\n\\item '相當'\n\\item '進步'\n\\item '不管'\n\\item '是'\n\\item '農委會'\n\\item '或是'\n\\item '食藥署'\n\\item '對'\n\\item '食品安全'\n\\item '監測'\n\\item '都'\n\\item '到達'\n\\item '一定'\n\\item '的'\n\\item '安全'\n\\item '水準'\n\\item '現在'\n\\item '開始'\n\\item '說'\n\\item '如何'\n\\item '吃'\n\\item '得'\n\\item '更好'\n\\item '因此'\n\\item '提出'\n\\item '營養'\n\\item '飲食'\n\\item '促進法'\n\\item '陳'\n\\item '時'\n\\item '中'\n\\item '說'\n\\item '希望'\n\\item '透過'\n\\item '此法'\n\\item '將'\n\\item '各項'\n\\item '促進'\n\\item '飲食'\n\\item '概念'\n\\item '都'\n\\item '能'\n\\item '在'\n\\item '法案'\n\\item '中'\n\\item '表現'\n\\item '雖然'\n\\item '現在'\n\\item '還未'\n\\item '正式'\n\\item '立法'\n\\item '但'\n\\item '相關'\n\\item '行動'\n\\item '已'\n\\item '展開'\n\\item '中央'\n\\item '與'\n\\item '地方'\n\\item '一起'\n\\item '把'\n\\item '這件'\n\\item '事情'\n\\item '做好'\n\\item '例如'\n\\item '健康'\n\\item '飲食'\n\\item '調查'\n\\item '還有'\n\\item '一些'\n\\item '基準'\n\\item '設定'\n\\item '3'\n\\item '月'\n\\item '10'\n\\item '日'\n\\item '也'\n\\item '開始'\n\\item '第一次'\n\\item '諮詢會'\n\\item '法還'\n\\item '沒'\n\\item '實施'\n\\item '但'\n\\item '基本'\n\\item '架構'\n\\item '該'\n\\item '做'\n\\item '的'\n\\item '事情'\n\\item '不'\n\\item '怠慢'\n\\item '盡早'\n\\item '凝聚'\n\\item '共識'\n\\item '有'\n\\item '秩序'\n\\item '進行'\n\\item '民眾'\n\\item '黨立委'\n\\item '蔡壁'\n\\item '如'\n\\item '指出'\n\\item '健康'\n\\item '的'\n\\item '飲食'\n\\item '有助於'\n\\item '降低'\n\\item '肥胖'\n\\item '及'\n\\item '預防'\n\\item '慢性病'\n\\item '如'\n\\item '高血壓'\n\\item '心臟'\n\\item '疾病'\n\\item '第二'\n\\item '型'\n\\item '糖尿病'\n\\item '與'\n\\item '中風'\n\\item '等'\n\\item '危機'\n\\item '也'\n\\item '能'\n\\item '讓'\n\\item '國人'\n\\item '更'\n\\item '健康'\n\\item '這也是'\n\\item '營養'\n\\item '及'\n\\item '健康'\n\\item '飲食'\n\\item '促進法'\n\\item '最'\n\\item '主要'\n\\item '的'\n\\item '宗旨'\n\\item '粗估'\n\\item '若'\n\\item '三'\n\\item '高'\n\\item '的'\n\\item '人口減少'\n\\item '1'\n\\item '每年'\n\\item '將'\n\\item '減少'\n\\item '幾十'\n\\item '億元'\n\\item '的'\n\\item '健保'\n\\item '支出'\n\\end{enumerate*}\n",
            "text/markdown": "1. '衛生'\n2. '福利部'\n3. '健保署'\n4. '統計'\n5. '2018'\n6. '年'\n7. '花費'\n8. '全民'\n9. '健康'\n10. '保險'\n11. '支出'\n12. '的'\n13. '前'\n14. '十大'\n15. '疾病'\n16. '中'\n17. '急慢性'\n18. '腎臟病'\n19. '糖尿病'\n20. '高血壓'\n21. '缺血性'\n22. '心臟病'\n23. '皆'\n24. '為'\n25. '慢性'\n26. '疾病'\n27. '初步'\n28. '研究'\n29. '與'\n30. '飲食'\n31. '有關'\n32. '衛'\n33. '福'\n34. '部長'\n35. '陳'\n36. '時'\n37. '中'\n38. '說'\n39. '營養'\n40. '及'\n41. '健康'\n42. '飲食'\n43. '促進法'\n44. '民國'\n45. '107'\n46. '年'\n47. '已'\n48. '送'\n49. '進'\n50. '行政院'\n51. '去'\n52. '經過'\n53. '幾年'\n54. '廣泛'\n55. '討論'\n56. '今年'\n57. '初步'\n58. '列為'\n59. '優先'\n60. '法案'\n61. '希望'\n62. '這'\n63. '會期'\n64. '能'\n65. '討論'\n66. '到'\n67. '台灣民眾'\n68. '黨'\n69. '立法院'\n70. '黨團'\n71. '邀集'\n72. '衛福部'\n73. '國'\n74. '健'\n75. '署'\n76. '農委會'\n77. '輔導處'\n78. '等'\n79. '政府'\n80. '官員'\n81. '代表'\n82. '以及'\n83. '民進黨'\n84. '立委'\n85. '吳玉琴'\n86. '專家學者'\n87. '和'\n88. '民間團體'\n89. '針對'\n90. '營養'\n91. '及'\n92. '健康'\n93. '飲食'\n94. '促進法'\n95. '立法'\n96. '現況'\n97. '與'\n98. '困境'\n99. '進行'\n100. '討論'\n101. '與'\n102. '意見'\n103. '交流'\n104. '陳'\n105. '時'\n106. '中'\n107. '說'\n108. '對於'\n109. '飲食'\n110. '慢性傷害'\n111. '其實'\n112. '以前'\n113. '都'\n114. '沒'\n115. '這麼'\n116. '重視'\n117. '健康'\n118. '飲食'\n119. '跟'\n120. '食品安全'\n121. '一樣'\n122. '重要'\n123. '時代'\n124. '已'\n125. '相當'\n126. '進步'\n127. '不管'\n128. '是'\n129. '農委會'\n130. '或是'\n131. '食藥署'\n132. '對'\n133. '食品安全'\n134. '監測'\n135. '都'\n136. '到達'\n137. '一定'\n138. '的'\n139. '安全'\n140. '水準'\n141. '現在'\n142. '開始'\n143. '說'\n144. '如何'\n145. '吃'\n146. '得'\n147. '更好'\n148. '因此'\n149. '提出'\n150. '營養'\n151. '飲食'\n152. '促進法'\n153. '陳'\n154. '時'\n155. '中'\n156. '說'\n157. '希望'\n158. '透過'\n159. '此法'\n160. '將'\n161. '各項'\n162. '促進'\n163. '飲食'\n164. '概念'\n165. '都'\n166. '能'\n167. '在'\n168. '法案'\n169. '中'\n170. '表現'\n171. '雖然'\n172. '現在'\n173. '還未'\n174. '正式'\n175. '立法'\n176. '但'\n177. '相關'\n178. '行動'\n179. '已'\n180. '展開'\n181. '中央'\n182. '與'\n183. '地方'\n184. '一起'\n185. '把'\n186. '這件'\n187. '事情'\n188. '做好'\n189. '例如'\n190. '健康'\n191. '飲食'\n192. '調查'\n193. '還有'\n194. '一些'\n195. '基準'\n196. '設定'\n197. '3'\n198. '月'\n199. '10'\n200. '日'\n201. '也'\n202. '開始'\n203. '第一次'\n204. '諮詢會'\n205. '法還'\n206. '沒'\n207. '實施'\n208. '但'\n209. '基本'\n210. '架構'\n211. '該'\n212. '做'\n213. '的'\n214. '事情'\n215. '不'\n216. '怠慢'\n217. '盡早'\n218. '凝聚'\n219. '共識'\n220. '有'\n221. '秩序'\n222. '進行'\n223. '民眾'\n224. '黨立委'\n225. '蔡壁'\n226. '如'\n227. '指出'\n228. '健康'\n229. '的'\n230. '飲食'\n231. '有助於'\n232. '降低'\n233. '肥胖'\n234. '及'\n235. '預防'\n236. '慢性病'\n237. '如'\n238. '高血壓'\n239. '心臟'\n240. '疾病'\n241. '第二'\n242. '型'\n243. '糖尿病'\n244. '與'\n245. '中風'\n246. '等'\n247. '危機'\n248. '也'\n249. '能'\n250. '讓'\n251. '國人'\n252. '更'\n253. '健康'\n254. '這也是'\n255. '營養'\n256. '及'\n257. '健康'\n258. '飲食'\n259. '促進法'\n260. '最'\n261. '主要'\n262. '的'\n263. '宗旨'\n264. '粗估'\n265. '若'\n266. '三'\n267. '高'\n268. '的'\n269. '人口減少'\n270. '1'\n271. '每年'\n272. '將'\n273. '減少'\n274. '幾十'\n275. '億元'\n276. '的'\n277. '健保'\n278. '支出'\n\n\n",
            "text/html": [
              "<style>\n",
              ".list-inline {list-style: none; margin:0; padding: 0}\n",
              ".list-inline>li {display: inline-block}\n",
              ".list-inline>li:not(:last-child)::after {content: \"\\00b7\"; padding: 0 .5ex}\n",
              "</style>\n",
              "<ol class=list-inline><li>'衛生'</li><li>'福利部'</li><li>'健保署'</li><li>'統計'</li><li>'2018'</li><li>'年'</li><li>'花費'</li><li>'全民'</li><li>'健康'</li><li>'保險'</li><li>'支出'</li><li>'的'</li><li>'前'</li><li>'十大'</li><li>'疾病'</li><li>'中'</li><li>'急慢性'</li><li>'腎臟病'</li><li>'糖尿病'</li><li>'高血壓'</li><li>'缺血性'</li><li>'心臟病'</li><li>'皆'</li><li>'為'</li><li>'慢性'</li><li>'疾病'</li><li>'初步'</li><li>'研究'</li><li>'與'</li><li>'飲食'</li><li>'有關'</li><li>'衛'</li><li>'福'</li><li>'部長'</li><li>'陳'</li><li>'時'</li><li>'中'</li><li>'說'</li><li>'營養'</li><li>'及'</li><li>'健康'</li><li>'飲食'</li><li>'促進法'</li><li>'民國'</li><li>'107'</li><li>'年'</li><li>'已'</li><li>'送'</li><li>'進'</li><li>'行政院'</li><li>'去'</li><li>'經過'</li><li>'幾年'</li><li>'廣泛'</li><li>'討論'</li><li>'今年'</li><li>'初步'</li><li>'列為'</li><li>'優先'</li><li>'法案'</li><li>'希望'</li><li>'這'</li><li>'會期'</li><li>'能'</li><li>'討論'</li><li>'到'</li><li>'台灣民眾'</li><li>'黨'</li><li>'立法院'</li><li>'黨團'</li><li>'邀集'</li><li>'衛福部'</li><li>'國'</li><li>'健'</li><li>'署'</li><li>'農委會'</li><li>'輔導處'</li><li>'等'</li><li>'政府'</li><li>'官員'</li><li>'代表'</li><li>'以及'</li><li>'民進黨'</li><li>'立委'</li><li>'吳玉琴'</li><li>'專家學者'</li><li>'和'</li><li>'民間團體'</li><li>'針對'</li><li>'營養'</li><li>'及'</li><li>'健康'</li><li>'飲食'</li><li>'促進法'</li><li>'立法'</li><li>'現況'</li><li>'與'</li><li>'困境'</li><li>'進行'</li><li>'討論'</li><li>'與'</li><li>'意見'</li><li>'交流'</li><li>'陳'</li><li>'時'</li><li>'中'</li><li>'說'</li><li>'對於'</li><li>'飲食'</li><li>'慢性傷害'</li><li>'其實'</li><li>'以前'</li><li>'都'</li><li>'沒'</li><li>'這麼'</li><li>'重視'</li><li>'健康'</li><li>'飲食'</li><li>'跟'</li><li>'食品安全'</li><li>'一樣'</li><li>'重要'</li><li>'時代'</li><li>'已'</li><li>'相當'</li><li>'進步'</li><li>'不管'</li><li>'是'</li><li>'農委會'</li><li>'或是'</li><li>'食藥署'</li><li>'對'</li><li>'食品安全'</li><li>'監測'</li><li>'都'</li><li>'到達'</li><li>'一定'</li><li>'的'</li><li>'安全'</li><li>'水準'</li><li>'現在'</li><li>'開始'</li><li>'說'</li><li>'如何'</li><li>'吃'</li><li>'得'</li><li>'更好'</li><li>'因此'</li><li>'提出'</li><li>'營養'</li><li>'飲食'</li><li>'促進法'</li><li>'陳'</li><li>'時'</li><li>'中'</li><li>'說'</li><li>'希望'</li><li>'透過'</li><li>'此法'</li><li>'將'</li><li>'各項'</li><li>'促進'</li><li>'飲食'</li><li>'概念'</li><li>'都'</li><li>'能'</li><li>'在'</li><li>'法案'</li><li>'中'</li><li>'表現'</li><li>'雖然'</li><li>'現在'</li><li>'還未'</li><li>'正式'</li><li>'立法'</li><li>'但'</li><li>'相關'</li><li>'行動'</li><li>'已'</li><li>'展開'</li><li>'中央'</li><li>'與'</li><li>'地方'</li><li>'一起'</li><li>'把'</li><li>'這件'</li><li>'事情'</li><li>'做好'</li><li>'例如'</li><li>'健康'</li><li>'飲食'</li><li>'調查'</li><li>'還有'</li><li>'一些'</li><li>'基準'</li><li>'設定'</li><li>'3'</li><li>'月'</li><li>'10'</li><li>'日'</li><li>'也'</li><li>'開始'</li><li>'第一次'</li><li>'諮詢會'</li><li>'法還'</li><li>'沒'</li><li>'實施'</li><li>'但'</li><li>'基本'</li><li>'架構'</li><li>'該'</li><li>'做'</li><li>'的'</li><li>'事情'</li><li>'不'</li><li>'怠慢'</li><li>'盡早'</li><li>'凝聚'</li><li>'共識'</li><li>'有'</li><li>'秩序'</li><li>'進行'</li><li>'民眾'</li><li>'黨立委'</li><li>'蔡壁'</li><li>'如'</li><li>'指出'</li><li>'健康'</li><li>'的'</li><li>'飲食'</li><li>'有助於'</li><li>'降低'</li><li>'肥胖'</li><li>'及'</li><li>'預防'</li><li>'慢性病'</li><li>'如'</li><li>'高血壓'</li><li>'心臟'</li><li>'疾病'</li><li>'第二'</li><li>'型'</li><li>'糖尿病'</li><li>'與'</li><li>'中風'</li><li>'等'</li><li>'危機'</li><li>'也'</li><li>'能'</li><li>'讓'</li><li>'國人'</li><li>'更'</li><li>'健康'</li><li>'這也是'</li><li>'營養'</li><li>'及'</li><li>'健康'</li><li>'飲食'</li><li>'促進法'</li><li>'最'</li><li>'主要'</li><li>'的'</li><li>'宗旨'</li><li>'粗估'</li><li>'若'</li><li>'三'</li><li>'高'</li><li>'的'</li><li>'人口減少'</li><li>'1'</li><li>'每年'</li><li>'將'</li><li>'減少'</li><li>'幾十'</li><li>'億元'</li><li>'的'</li><li>'健保'</li><li>'支出'</li></ol>\n"
            ]
          },
          "metadata": {
            "tags": []
          }
        }
      ]
    },
    {
      "cell_type": "code",
      "metadata": {
        "id": "R6JPgttjPSSd"
      },
      "source": [
        "new_words <- c(\"傳染性肺炎\",\"醫療體系\",\"防疫措施\")\n",
        "for (i in 1:length(new_words)){\n",
        "  new_user_word(cutter,new_words[i])\n",
        "}"
      ],
      "execution_count": 36,
      "outputs": []
    },
    {
      "cell_type": "code",
      "metadata": {
        "id": "QgUmg8j6QRs4"
      },
      "source": [
        "content <- str_remove_all(content, \"[0-9a-zA-Z]+?\")"
      ],
      "execution_count": 37,
      "outputs": []
    },
    {
      "cell_type": "code",
      "metadata": {
        "colab": {
          "base_uri": "https://localhost:8080/",
          "height": 136
        },
        "id": "dP6cEWW1Qf81",
        "outputId": "236a34ea-5f09-4f2c-88b6-17c9d1546b5a"
      },
      "source": [
        "cutter[content]"
      ],
      "execution_count": 38,
      "outputs": [
        {
          "output_type": "display_data",
          "data": {
            "text/plain": [
              "  [1] \"衛生\"     \"福利部\"   \"健保署\"   \"統計\"     \"年\"       \"花費\"    \n",
              "  [7] \"全民\"     \"健康\"     \"保險\"     \"支出\"     \"的\"       \"前\"      \n",
              " [13] \"十大\"     \"疾病\"     \"中\"       \"急慢性\"   \"腎臟病\"   \"糖尿病\"  \n",
              " [19] \"高血壓\"   \"缺血性\"   \"心臟病\"   \"皆\"       \"為\"       \"慢性\"    \n",
              " [25] \"疾病\"     \"初步\"     \"研究\"     \"與\"       \"飲食\"     \"有關\"    \n",
              " [31] \"衛\"       \"福\"       \"部長\"     \"陳\"       \"時\"       \"中\"      \n",
              " [37] \"說\"       \"營養\"     \"及\"       \"健康\"     \"飲食\"     \"促進法\"  \n",
              " [43] \"民國\"     \"年\"       \"已\"       \"送\"       \"進\"       \"行政院\"  \n",
              " [49] \"去\"       \"經過\"     \"幾年\"     \"廣泛\"     \"討論\"     \"今年\"    \n",
              " [55] \"初步\"     \"列為\"     \"優先\"     \"法案\"     \"希望\"     \"這\"      \n",
              " [61] \"會期\"     \"能\"       \"討論\"     \"到\"       \"台灣民眾\" \"黨\"      \n",
              " [67] \"立法院\"   \"黨團\"     \"邀集\"     \"衛福部\"   \"國\"       \"健\"      \n",
              " [73] \"署\"       \"農委會\"   \"輔導處\"   \"等\"       \"政府\"     \"官員\"    \n",
              " [79] \"代表\"     \"以及\"     \"民進黨\"   \"立委\"     \"吳玉琴\"   \"專家學者\"\n",
              " [85] \"和\"       \"民間團體\" \"針對\"     \"營養\"     \"及\"       \"健康\"    \n",
              " [91] \"飲食\"     \"促進法\"   \"立法\"     \"現況\"     \"與\"       \"困境\"    \n",
              " [97] \"進行\"     \"討論\"     \"與\"       \"意見\"     \"交流\"     \"陳\"      \n",
              "[103] \"時\"       \"中\"       \"說\"       \"對於\"     \"飲食\"     \"慢性傷害\"\n",
              "[109] \"其實\"     \"以前\"     \"都\"       \"沒\"       \"這麼\"     \"重視\"    \n",
              "[115] \"健康\"     \"飲食\"     \"跟\"       \"食品安全\" \"一樣\"     \"重要\"    \n",
              "[121] \"時代\"     \"已\"       \"相當\"     \"進步\"     \"不管\"     \"是\"      \n",
              "[127] \"農委會\"   \"或是\"     \"食藥署\"   \"對\"       \"食品安全\" \"監測\"    \n",
              "[133] \"都\"       \"到達\"     \"一定\"     \"的\"       \"安全\"     \"水準\"    \n",
              "[139] \"現在\"     \"開始\"     \"說\"       \"如何\"     \"吃\"       \"得\"      \n",
              "[145] \"更好\"     \"因此\"     \"提出\"     \"營養\"     \"飲食\"     \"促進法\"  \n",
              "[151] \"陳\"       \"時\"       \"中\"       \"說\"       \"希望\"     \"透過\"    \n",
              "[157] \"此法\"     \"將\"       \"各項\"     \"促進\"     \"飲食\"     \"概念\"    \n",
              "[163] \"都\"       \"能\"       \"在\"       \"法案\"     \"中\"       \"表現\"    \n",
              "[169] \"雖然\"     \"現在\"     \"還未\"     \"正式\"     \"立法\"     \"但\"      \n",
              "[175] \"相關\"     \"行動\"     \"已\"       \"展開\"     \"中央\"     \"與\"      \n",
              "[181] \"地方\"     \"一起\"     \"把\"       \"這件\"     \"事情\"     \"做好\"    \n",
              "[187] \"例如\"     \"健康\"     \"飲食\"     \"調查\"     \"還有\"     \"一些\"    \n",
              "[193] \"基準\"     \"設定\"     \"月\"       \"日\"       \"也\"       \"開始\"    \n",
              "[199] \"第一次\"   \"諮詢會\"   \"法還\"     \"沒\"       \"實施\"     \"但\"      \n",
              "[205] \"基本\"     \"架構\"     \"該\"       \"做\"       \"的\"       \"事情\"    \n",
              "[211] \"不\"       \"怠慢\"     \"盡早\"     \"凝聚\"     \"共識\"     \"有\"      \n",
              "[217] \"秩序\"     \"進行\"     \"民眾\"     \"黨立委\"   \"蔡壁\"     \"如\"      \n",
              "[223] \"指出\"     \"健康\"     \"的\"       \"飲食\"     \"有助於\"   \"降低\"    \n",
              "[229] \"肥胖\"     \"及\"       \"預防\"     \"慢性病\"   \"如\"       \"高血壓\"  \n",
              "[235] \"心臟\"     \"疾病\"     \"第二\"     \"型\"       \"糖尿病\"   \"與\"      \n",
              "[241] \"中風\"     \"等\"       \"危機\"     \"也\"       \"能\"       \"讓\"      \n",
              "[247] \"國人\"     \"更\"       \"健康\"     \"這也是\"   \"營養\"     \"及\"      \n",
              "[253] \"健康\"     \"飲食\"     \"促進法\"   \"最\"       \"主要\"     \"的\"      \n",
              "[259] \"宗旨\"     \"粗估\"     \"若\"       \"三\"       \"高\"       \"的\"      \n",
              "[265] \"人口減少\" \"每年\"     \"將\"       \"減少\"     \"幾十\"     \"億元\"    \n",
              "[271] \"的\"       \"健保\"     \"支出\"    "
            ],
            "text/latex": "\\begin{enumerate*}\n\\item '衛生'\n\\item '福利部'\n\\item '健保署'\n\\item '統計'\n\\item '年'\n\\item '花費'\n\\item '全民'\n\\item '健康'\n\\item '保險'\n\\item '支出'\n\\item '的'\n\\item '前'\n\\item '十大'\n\\item '疾病'\n\\item '中'\n\\item '急慢性'\n\\item '腎臟病'\n\\item '糖尿病'\n\\item '高血壓'\n\\item '缺血性'\n\\item '心臟病'\n\\item '皆'\n\\item '為'\n\\item '慢性'\n\\item '疾病'\n\\item '初步'\n\\item '研究'\n\\item '與'\n\\item '飲食'\n\\item '有關'\n\\item '衛'\n\\item '福'\n\\item '部長'\n\\item '陳'\n\\item '時'\n\\item '中'\n\\item '說'\n\\item '營養'\n\\item '及'\n\\item '健康'\n\\item '飲食'\n\\item '促進法'\n\\item '民國'\n\\item '年'\n\\item '已'\n\\item '送'\n\\item '進'\n\\item '行政院'\n\\item '去'\n\\item '經過'\n\\item '幾年'\n\\item '廣泛'\n\\item '討論'\n\\item '今年'\n\\item '初步'\n\\item '列為'\n\\item '優先'\n\\item '法案'\n\\item '希望'\n\\item '這'\n\\item '會期'\n\\item '能'\n\\item '討論'\n\\item '到'\n\\item '台灣民眾'\n\\item '黨'\n\\item '立法院'\n\\item '黨團'\n\\item '邀集'\n\\item '衛福部'\n\\item '國'\n\\item '健'\n\\item '署'\n\\item '農委會'\n\\item '輔導處'\n\\item '等'\n\\item '政府'\n\\item '官員'\n\\item '代表'\n\\item '以及'\n\\item '民進黨'\n\\item '立委'\n\\item '吳玉琴'\n\\item '專家學者'\n\\item '和'\n\\item '民間團體'\n\\item '針對'\n\\item '營養'\n\\item '及'\n\\item '健康'\n\\item '飲食'\n\\item '促進法'\n\\item '立法'\n\\item '現況'\n\\item '與'\n\\item '困境'\n\\item '進行'\n\\item '討論'\n\\item '與'\n\\item '意見'\n\\item '交流'\n\\item '陳'\n\\item '時'\n\\item '中'\n\\item '說'\n\\item '對於'\n\\item '飲食'\n\\item '慢性傷害'\n\\item '其實'\n\\item '以前'\n\\item '都'\n\\item '沒'\n\\item '這麼'\n\\item '重視'\n\\item '健康'\n\\item '飲食'\n\\item '跟'\n\\item '食品安全'\n\\item '一樣'\n\\item '重要'\n\\item '時代'\n\\item '已'\n\\item '相當'\n\\item '進步'\n\\item '不管'\n\\item '是'\n\\item '農委會'\n\\item '或是'\n\\item '食藥署'\n\\item '對'\n\\item '食品安全'\n\\item '監測'\n\\item '都'\n\\item '到達'\n\\item '一定'\n\\item '的'\n\\item '安全'\n\\item '水準'\n\\item '現在'\n\\item '開始'\n\\item '說'\n\\item '如何'\n\\item '吃'\n\\item '得'\n\\item '更好'\n\\item '因此'\n\\item '提出'\n\\item '營養'\n\\item '飲食'\n\\item '促進法'\n\\item '陳'\n\\item '時'\n\\item '中'\n\\item '說'\n\\item '希望'\n\\item '透過'\n\\item '此法'\n\\item '將'\n\\item '各項'\n\\item '促進'\n\\item '飲食'\n\\item '概念'\n\\item '都'\n\\item '能'\n\\item '在'\n\\item '法案'\n\\item '中'\n\\item '表現'\n\\item '雖然'\n\\item '現在'\n\\item '還未'\n\\item '正式'\n\\item '立法'\n\\item '但'\n\\item '相關'\n\\item '行動'\n\\item '已'\n\\item '展開'\n\\item '中央'\n\\item '與'\n\\item '地方'\n\\item '一起'\n\\item '把'\n\\item '這件'\n\\item '事情'\n\\item '做好'\n\\item '例如'\n\\item '健康'\n\\item '飲食'\n\\item '調查'\n\\item '還有'\n\\item '一些'\n\\item '基準'\n\\item '設定'\n\\item '月'\n\\item '日'\n\\item '也'\n\\item '開始'\n\\item '第一次'\n\\item '諮詢會'\n\\item '法還'\n\\item '沒'\n\\item '實施'\n\\item '但'\n\\item '基本'\n\\item '架構'\n\\item '該'\n\\item '做'\n\\item '的'\n\\item '事情'\n\\item '不'\n\\item '怠慢'\n\\item '盡早'\n\\item '凝聚'\n\\item '共識'\n\\item '有'\n\\item '秩序'\n\\item '進行'\n\\item '民眾'\n\\item '黨立委'\n\\item '蔡壁'\n\\item '如'\n\\item '指出'\n\\item '健康'\n\\item '的'\n\\item '飲食'\n\\item '有助於'\n\\item '降低'\n\\item '肥胖'\n\\item '及'\n\\item '預防'\n\\item '慢性病'\n\\item '如'\n\\item '高血壓'\n\\item '心臟'\n\\item '疾病'\n\\item '第二'\n\\item '型'\n\\item '糖尿病'\n\\item '與'\n\\item '中風'\n\\item '等'\n\\item '危機'\n\\item '也'\n\\item '能'\n\\item '讓'\n\\item '國人'\n\\item '更'\n\\item '健康'\n\\item '這也是'\n\\item '營養'\n\\item '及'\n\\item '健康'\n\\item '飲食'\n\\item '促進法'\n\\item '最'\n\\item '主要'\n\\item '的'\n\\item '宗旨'\n\\item '粗估'\n\\item '若'\n\\item '三'\n\\item '高'\n\\item '的'\n\\item '人口減少'\n\\item '每年'\n\\item '將'\n\\item '減少'\n\\item '幾十'\n\\item '億元'\n\\item '的'\n\\item '健保'\n\\item '支出'\n\\end{enumerate*}\n",
            "text/markdown": "1. '衛生'\n2. '福利部'\n3. '健保署'\n4. '統計'\n5. '年'\n6. '花費'\n7. '全民'\n8. '健康'\n9. '保險'\n10. '支出'\n11. '的'\n12. '前'\n13. '十大'\n14. '疾病'\n15. '中'\n16. '急慢性'\n17. '腎臟病'\n18. '糖尿病'\n19. '高血壓'\n20. '缺血性'\n21. '心臟病'\n22. '皆'\n23. '為'\n24. '慢性'\n25. '疾病'\n26. '初步'\n27. '研究'\n28. '與'\n29. '飲食'\n30. '有關'\n31. '衛'\n32. '福'\n33. '部長'\n34. '陳'\n35. '時'\n36. '中'\n37. '說'\n38. '營養'\n39. '及'\n40. '健康'\n41. '飲食'\n42. '促進法'\n43. '民國'\n44. '年'\n45. '已'\n46. '送'\n47. '進'\n48. '行政院'\n49. '去'\n50. '經過'\n51. '幾年'\n52. '廣泛'\n53. '討論'\n54. '今年'\n55. '初步'\n56. '列為'\n57. '優先'\n58. '法案'\n59. '希望'\n60. '這'\n61. '會期'\n62. '能'\n63. '討論'\n64. '到'\n65. '台灣民眾'\n66. '黨'\n67. '立法院'\n68. '黨團'\n69. '邀集'\n70. '衛福部'\n71. '國'\n72. '健'\n73. '署'\n74. '農委會'\n75. '輔導處'\n76. '等'\n77. '政府'\n78. '官員'\n79. '代表'\n80. '以及'\n81. '民進黨'\n82. '立委'\n83. '吳玉琴'\n84. '專家學者'\n85. '和'\n86. '民間團體'\n87. '針對'\n88. '營養'\n89. '及'\n90. '健康'\n91. '飲食'\n92. '促進法'\n93. '立法'\n94. '現況'\n95. '與'\n96. '困境'\n97. '進行'\n98. '討論'\n99. '與'\n100. '意見'\n101. '交流'\n102. '陳'\n103. '時'\n104. '中'\n105. '說'\n106. '對於'\n107. '飲食'\n108. '慢性傷害'\n109. '其實'\n110. '以前'\n111. '都'\n112. '沒'\n113. '這麼'\n114. '重視'\n115. '健康'\n116. '飲食'\n117. '跟'\n118. '食品安全'\n119. '一樣'\n120. '重要'\n121. '時代'\n122. '已'\n123. '相當'\n124. '進步'\n125. '不管'\n126. '是'\n127. '農委會'\n128. '或是'\n129. '食藥署'\n130. '對'\n131. '食品安全'\n132. '監測'\n133. '都'\n134. '到達'\n135. '一定'\n136. '的'\n137. '安全'\n138. '水準'\n139. '現在'\n140. '開始'\n141. '說'\n142. '如何'\n143. '吃'\n144. '得'\n145. '更好'\n146. '因此'\n147. '提出'\n148. '營養'\n149. '飲食'\n150. '促進法'\n151. '陳'\n152. '時'\n153. '中'\n154. '說'\n155. '希望'\n156. '透過'\n157. '此法'\n158. '將'\n159. '各項'\n160. '促進'\n161. '飲食'\n162. '概念'\n163. '都'\n164. '能'\n165. '在'\n166. '法案'\n167. '中'\n168. '表現'\n169. '雖然'\n170. '現在'\n171. '還未'\n172. '正式'\n173. '立法'\n174. '但'\n175. '相關'\n176. '行動'\n177. '已'\n178. '展開'\n179. '中央'\n180. '與'\n181. '地方'\n182. '一起'\n183. '把'\n184. '這件'\n185. '事情'\n186. '做好'\n187. '例如'\n188. '健康'\n189. '飲食'\n190. '調查'\n191. '還有'\n192. '一些'\n193. '基準'\n194. '設定'\n195. '月'\n196. '日'\n197. '也'\n198. '開始'\n199. '第一次'\n200. '諮詢會'\n201. '法還'\n202. '沒'\n203. '實施'\n204. '但'\n205. '基本'\n206. '架構'\n207. '該'\n208. '做'\n209. '的'\n210. '事情'\n211. '不'\n212. '怠慢'\n213. '盡早'\n214. '凝聚'\n215. '共識'\n216. '有'\n217. '秩序'\n218. '進行'\n219. '民眾'\n220. '黨立委'\n221. '蔡壁'\n222. '如'\n223. '指出'\n224. '健康'\n225. '的'\n226. '飲食'\n227. '有助於'\n228. '降低'\n229. '肥胖'\n230. '及'\n231. '預防'\n232. '慢性病'\n233. '如'\n234. '高血壓'\n235. '心臟'\n236. '疾病'\n237. '第二'\n238. '型'\n239. '糖尿病'\n240. '與'\n241. '中風'\n242. '等'\n243. '危機'\n244. '也'\n245. '能'\n246. '讓'\n247. '國人'\n248. '更'\n249. '健康'\n250. '這也是'\n251. '營養'\n252. '及'\n253. '健康'\n254. '飲食'\n255. '促進法'\n256. '最'\n257. '主要'\n258. '的'\n259. '宗旨'\n260. '粗估'\n261. '若'\n262. '三'\n263. '高'\n264. '的'\n265. '人口減少'\n266. '每年'\n267. '將'\n268. '減少'\n269. '幾十'\n270. '億元'\n271. '的'\n272. '健保'\n273. '支出'\n\n\n",
            "text/html": [
              "<style>\n",
              ".list-inline {list-style: none; margin:0; padding: 0}\n",
              ".list-inline>li {display: inline-block}\n",
              ".list-inline>li:not(:last-child)::after {content: \"\\00b7\"; padding: 0 .5ex}\n",
              "</style>\n",
              "<ol class=list-inline><li>'衛生'</li><li>'福利部'</li><li>'健保署'</li><li>'統計'</li><li>'年'</li><li>'花費'</li><li>'全民'</li><li>'健康'</li><li>'保險'</li><li>'支出'</li><li>'的'</li><li>'前'</li><li>'十大'</li><li>'疾病'</li><li>'中'</li><li>'急慢性'</li><li>'腎臟病'</li><li>'糖尿病'</li><li>'高血壓'</li><li>'缺血性'</li><li>'心臟病'</li><li>'皆'</li><li>'為'</li><li>'慢性'</li><li>'疾病'</li><li>'初步'</li><li>'研究'</li><li>'與'</li><li>'飲食'</li><li>'有關'</li><li>'衛'</li><li>'福'</li><li>'部長'</li><li>'陳'</li><li>'時'</li><li>'中'</li><li>'說'</li><li>'營養'</li><li>'及'</li><li>'健康'</li><li>'飲食'</li><li>'促進法'</li><li>'民國'</li><li>'年'</li><li>'已'</li><li>'送'</li><li>'進'</li><li>'行政院'</li><li>'去'</li><li>'經過'</li><li>'幾年'</li><li>'廣泛'</li><li>'討論'</li><li>'今年'</li><li>'初步'</li><li>'列為'</li><li>'優先'</li><li>'法案'</li><li>'希望'</li><li>'這'</li><li>'會期'</li><li>'能'</li><li>'討論'</li><li>'到'</li><li>'台灣民眾'</li><li>'黨'</li><li>'立法院'</li><li>'黨團'</li><li>'邀集'</li><li>'衛福部'</li><li>'國'</li><li>'健'</li><li>'署'</li><li>'農委會'</li><li>'輔導處'</li><li>'等'</li><li>'政府'</li><li>'官員'</li><li>'代表'</li><li>'以及'</li><li>'民進黨'</li><li>'立委'</li><li>'吳玉琴'</li><li>'專家學者'</li><li>'和'</li><li>'民間團體'</li><li>'針對'</li><li>'營養'</li><li>'及'</li><li>'健康'</li><li>'飲食'</li><li>'促進法'</li><li>'立法'</li><li>'現況'</li><li>'與'</li><li>'困境'</li><li>'進行'</li><li>'討論'</li><li>'與'</li><li>'意見'</li><li>'交流'</li><li>'陳'</li><li>'時'</li><li>'中'</li><li>'說'</li><li>'對於'</li><li>'飲食'</li><li>'慢性傷害'</li><li>'其實'</li><li>'以前'</li><li>'都'</li><li>'沒'</li><li>'這麼'</li><li>'重視'</li><li>'健康'</li><li>'飲食'</li><li>'跟'</li><li>'食品安全'</li><li>'一樣'</li><li>'重要'</li><li>'時代'</li><li>'已'</li><li>'相當'</li><li>'進步'</li><li>'不管'</li><li>'是'</li><li>'農委會'</li><li>'或是'</li><li>'食藥署'</li><li>'對'</li><li>'食品安全'</li><li>'監測'</li><li>'都'</li><li>'到達'</li><li>'一定'</li><li>'的'</li><li>'安全'</li><li>'水準'</li><li>'現在'</li><li>'開始'</li><li>'說'</li><li>'如何'</li><li>'吃'</li><li>'得'</li><li>'更好'</li><li>'因此'</li><li>'提出'</li><li>'營養'</li><li>'飲食'</li><li>'促進法'</li><li>'陳'</li><li>'時'</li><li>'中'</li><li>'說'</li><li>'希望'</li><li>'透過'</li><li>'此法'</li><li>'將'</li><li>'各項'</li><li>'促進'</li><li>'飲食'</li><li>'概念'</li><li>'都'</li><li>'能'</li><li>'在'</li><li>'法案'</li><li>'中'</li><li>'表現'</li><li>'雖然'</li><li>'現在'</li><li>'還未'</li><li>'正式'</li><li>'立法'</li><li>'但'</li><li>'相關'</li><li>'行動'</li><li>'已'</li><li>'展開'</li><li>'中央'</li><li>'與'</li><li>'地方'</li><li>'一起'</li><li>'把'</li><li>'這件'</li><li>'事情'</li><li>'做好'</li><li>'例如'</li><li>'健康'</li><li>'飲食'</li><li>'調查'</li><li>'還有'</li><li>'一些'</li><li>'基準'</li><li>'設定'</li><li>'月'</li><li>'日'</li><li>'也'</li><li>'開始'</li><li>'第一次'</li><li>'諮詢會'</li><li>'法還'</li><li>'沒'</li><li>'實施'</li><li>'但'</li><li>'基本'</li><li>'架構'</li><li>'該'</li><li>'做'</li><li>'的'</li><li>'事情'</li><li>'不'</li><li>'怠慢'</li><li>'盡早'</li><li>'凝聚'</li><li>'共識'</li><li>'有'</li><li>'秩序'</li><li>'進行'</li><li>'民眾'</li><li>'黨立委'</li><li>'蔡壁'</li><li>'如'</li><li>'指出'</li><li>'健康'</li><li>'的'</li><li>'飲食'</li><li>'有助於'</li><li>'降低'</li><li>'肥胖'</li><li>'及'</li><li>'預防'</li><li>'慢性病'</li><li>'如'</li><li>'高血壓'</li><li>'心臟'</li><li>'疾病'</li><li>'第二'</li><li>'型'</li><li>'糖尿病'</li><li>'與'</li><li>'中風'</li><li>'等'</li><li>'危機'</li><li>'也'</li><li>'能'</li><li>'讓'</li><li>'國人'</li><li>'更'</li><li>'健康'</li><li>'這也是'</li><li>'營養'</li><li>'及'</li><li>'健康'</li><li>'飲食'</li><li>'促進法'</li><li>'最'</li><li>'主要'</li><li>'的'</li><li>'宗旨'</li><li>'粗估'</li><li>'若'</li><li>'三'</li><li>'高'</li><li>'的'</li><li>'人口減少'</li><li>'每年'</li><li>'將'</li><li>'減少'</li><li>'幾十'</li><li>'億元'</li><li>'的'</li><li>'健保'</li><li>'支出'</li></ol>\n"
            ]
          },
          "metadata": {
            "tags": []
          }
        }
      ]
    },
    {
      "cell_type": "code",
      "metadata": {
        "id": "-QHHmymtSu53"
      },
      "source": [
        "new_words <- c(\"傳染性肺炎\",\"醫療體系\",\"防疫措施\")\n",
        "writeLines(new_words, \"new_words.txt\")"
      ],
      "execution_count": 39,
      "outputs": []
    },
    {
      "cell_type": "code",
      "metadata": {
        "id": "DcP72EAUTC2g"
      },
      "source": [
        "stop_words <- c(\"在\",\"之\",\"更\",\"個\",\"未\",\"而\",\"也\",\"與\",\"的\")\n",
        "writeLines(stop_words, \"stop_words.txt\")"
      ],
      "execution_count": 40,
      "outputs": []
    },
    {
      "cell_type": "code",
      "metadata": {
        "colab": {
          "base_uri": "https://localhost:8080/",
          "height": 136
        },
        "id": "S0cyRgajTYLO",
        "outputId": "183329d9-25cb-4d32-97ee-7af5e85c6e9f"
      },
      "source": [
        "cutter <- worker(user = \"new_words.txt\", stop_word = \"stop_words.txt\",bylines = FALSE)\n",
        "seg_words <- cutter[content]\n",
        "seg_words"
      ],
      "execution_count": 41,
      "outputs": [
        {
          "output_type": "display_data",
          "data": {
            "text/plain": [
              "  [1] \"衛生\"     \"福利部\"   \"健保署\"   \"統計\"     \"年\"       \"花費\"    \n",
              "  [7] \"全民\"     \"健康\"     \"保險\"     \"支出\"     \"前\"       \"十大\"    \n",
              " [13] \"疾病\"     \"中\"       \"急慢性\"   \"腎臟病\"   \"糖尿病\"   \"高血壓\"  \n",
              " [19] \"缺血性\"   \"心臟病\"   \"皆\"       \"為\"       \"慢性\"     \"疾病\"    \n",
              " [25] \"初步\"     \"研究\"     \"飲食\"     \"有關\"     \"衛\"       \"福\"      \n",
              " [31] \"部長\"     \"陳\"       \"時\"       \"中\"       \"說\"       \"營養\"    \n",
              " [37] \"及\"       \"健康\"     \"飲食\"     \"促進法\"   \"民國\"     \"年\"      \n",
              " [43] \"已\"       \"送\"       \"進\"       \"行政院\"   \"去\"       \"經過\"    \n",
              " [49] \"幾年\"     \"廣泛\"     \"討論\"     \"今年\"     \"初步\"     \"列為\"    \n",
              " [55] \"優先\"     \"法案\"     \"希望\"     \"這\"       \"會期\"     \"能\"      \n",
              " [61] \"討論\"     \"到\"       \"台灣民眾\" \"黨\"       \"立法院\"   \"黨團\"    \n",
              " [67] \"邀集\"     \"衛福部\"   \"國\"       \"健\"       \"署\"       \"農委會\"  \n",
              " [73] \"輔導處\"   \"等\"       \"政府\"     \"官員\"     \"代表\"     \"以及\"    \n",
              " [79] \"民進黨\"   \"立委\"     \"吳玉琴\"   \"專家學者\" \"和\"       \"民間團體\"\n",
              " [85] \"針對\"     \"營養\"     \"及\"       \"健康\"     \"飲食\"     \"促進法\"  \n",
              " [91] \"立法\"     \"現況\"     \"困境\"     \"進行\"     \"討論\"     \"意見\"    \n",
              " [97] \"交流\"     \"陳\"       \"時\"       \"中\"       \"說\"       \"對於\"    \n",
              "[103] \"飲食\"     \"慢性傷害\" \"其實\"     \"以前\"     \"都\"       \"沒\"      \n",
              "[109] \"這麼\"     \"重視\"     \"健康\"     \"飲食\"     \"跟\"       \"食品安全\"\n",
              "[115] \"一樣\"     \"重要\"     \"時代\"     \"已\"       \"相當\"     \"進步\"    \n",
              "[121] \"不管\"     \"是\"       \"農委會\"   \"或是\"     \"食藥署\"   \"對\"      \n",
              "[127] \"食品安全\" \"監測\"     \"都\"       \"到達\"     \"一定\"     \"安全\"    \n",
              "[133] \"水準\"     \"現在\"     \"開始\"     \"說\"       \"如何\"     \"吃\"      \n",
              "[139] \"得\"       \"更好\"     \"因此\"     \"提出\"     \"營養\"     \"飲食\"    \n",
              "[145] \"促進法\"   \"陳\"       \"時\"       \"中\"       \"說\"       \"希望\"    \n",
              "[151] \"透過\"     \"此法\"     \"將\"       \"各項\"     \"促進\"     \"飲食\"    \n",
              "[157] \"概念\"     \"都\"       \"能\"       \"法案\"     \"中\"       \"表現\"    \n",
              "[163] \"雖然\"     \"現在\"     \"還未\"     \"正式\"     \"立法\"     \"但\"      \n",
              "[169] \"相關\"     \"行動\"     \"已\"       \"展開\"     \"中央\"     \"地方\"    \n",
              "[175] \"一起\"     \"把\"       \"這件\"     \"事情\"     \"做好\"     \"例如\"    \n",
              "[181] \"健康\"     \"飲食\"     \"調查\"     \"還有\"     \"一些\"     \"基準\"    \n",
              "[187] \"設定\"     \"月\"       \"日\"       \"開始\"     \"第一次\"   \"諮詢會\"  \n",
              "[193] \"法還\"     \"沒\"       \"實施\"     \"但\"       \"基本\"     \"架構\"    \n",
              "[199] \"該\"       \"做\"       \"事情\"     \"不\"       \"怠慢\"     \"盡早\"    \n",
              "[205] \"凝聚\"     \"共識\"     \"有\"       \"秩序\"     \"進行\"     \"民眾\"    \n",
              "[211] \"黨立委\"   \"蔡壁\"     \"如\"       \"指出\"     \"健康\"     \"飲食\"    \n",
              "[217] \"有助於\"   \"降低\"     \"肥胖\"     \"及\"       \"預防\"     \"慢性病\"  \n",
              "[223] \"如\"       \"高血壓\"   \"心臟\"     \"疾病\"     \"第二\"     \"型\"      \n",
              "[229] \"糖尿病\"   \"中風\"     \"等\"       \"危機\"     \"能\"       \"讓\"      \n",
              "[235] \"國人\"     \"健康\"     \"這也是\"   \"營養\"     \"及\"       \"健康\"    \n",
              "[241] \"飲食\"     \"促進法\"   \"最\"       \"主要\"     \"宗旨\"     \"粗估\"    \n",
              "[247] \"若\"       \"三\"       \"高\"       \"人口減少\" \"每年\"     \"將\"      \n",
              "[253] \"減少\"     \"幾十\"     \"億元\"     \"健保\"     \"支出\"    "
            ],
            "text/latex": "\\begin{enumerate*}\n\\item '衛生'\n\\item '福利部'\n\\item '健保署'\n\\item '統計'\n\\item '年'\n\\item '花費'\n\\item '全民'\n\\item '健康'\n\\item '保險'\n\\item '支出'\n\\item '前'\n\\item '十大'\n\\item '疾病'\n\\item '中'\n\\item '急慢性'\n\\item '腎臟病'\n\\item '糖尿病'\n\\item '高血壓'\n\\item '缺血性'\n\\item '心臟病'\n\\item '皆'\n\\item '為'\n\\item '慢性'\n\\item '疾病'\n\\item '初步'\n\\item '研究'\n\\item '飲食'\n\\item '有關'\n\\item '衛'\n\\item '福'\n\\item '部長'\n\\item '陳'\n\\item '時'\n\\item '中'\n\\item '說'\n\\item '營養'\n\\item '及'\n\\item '健康'\n\\item '飲食'\n\\item '促進法'\n\\item '民國'\n\\item '年'\n\\item '已'\n\\item '送'\n\\item '進'\n\\item '行政院'\n\\item '去'\n\\item '經過'\n\\item '幾年'\n\\item '廣泛'\n\\item '討論'\n\\item '今年'\n\\item '初步'\n\\item '列為'\n\\item '優先'\n\\item '法案'\n\\item '希望'\n\\item '這'\n\\item '會期'\n\\item '能'\n\\item '討論'\n\\item '到'\n\\item '台灣民眾'\n\\item '黨'\n\\item '立法院'\n\\item '黨團'\n\\item '邀集'\n\\item '衛福部'\n\\item '國'\n\\item '健'\n\\item '署'\n\\item '農委會'\n\\item '輔導處'\n\\item '等'\n\\item '政府'\n\\item '官員'\n\\item '代表'\n\\item '以及'\n\\item '民進黨'\n\\item '立委'\n\\item '吳玉琴'\n\\item '專家學者'\n\\item '和'\n\\item '民間團體'\n\\item '針對'\n\\item '營養'\n\\item '及'\n\\item '健康'\n\\item '飲食'\n\\item '促進法'\n\\item '立法'\n\\item '現況'\n\\item '困境'\n\\item '進行'\n\\item '討論'\n\\item '意見'\n\\item '交流'\n\\item '陳'\n\\item '時'\n\\item '中'\n\\item '說'\n\\item '對於'\n\\item '飲食'\n\\item '慢性傷害'\n\\item '其實'\n\\item '以前'\n\\item '都'\n\\item '沒'\n\\item '這麼'\n\\item '重視'\n\\item '健康'\n\\item '飲食'\n\\item '跟'\n\\item '食品安全'\n\\item '一樣'\n\\item '重要'\n\\item '時代'\n\\item '已'\n\\item '相當'\n\\item '進步'\n\\item '不管'\n\\item '是'\n\\item '農委會'\n\\item '或是'\n\\item '食藥署'\n\\item '對'\n\\item '食品安全'\n\\item '監測'\n\\item '都'\n\\item '到達'\n\\item '一定'\n\\item '安全'\n\\item '水準'\n\\item '現在'\n\\item '開始'\n\\item '說'\n\\item '如何'\n\\item '吃'\n\\item '得'\n\\item '更好'\n\\item '因此'\n\\item '提出'\n\\item '營養'\n\\item '飲食'\n\\item '促進法'\n\\item '陳'\n\\item '時'\n\\item '中'\n\\item '說'\n\\item '希望'\n\\item '透過'\n\\item '此法'\n\\item '將'\n\\item '各項'\n\\item '促進'\n\\item '飲食'\n\\item '概念'\n\\item '都'\n\\item '能'\n\\item '法案'\n\\item '中'\n\\item '表現'\n\\item '雖然'\n\\item '現在'\n\\item '還未'\n\\item '正式'\n\\item '立法'\n\\item '但'\n\\item '相關'\n\\item '行動'\n\\item '已'\n\\item '展開'\n\\item '中央'\n\\item '地方'\n\\item '一起'\n\\item '把'\n\\item '這件'\n\\item '事情'\n\\item '做好'\n\\item '例如'\n\\item '健康'\n\\item '飲食'\n\\item '調查'\n\\item '還有'\n\\item '一些'\n\\item '基準'\n\\item '設定'\n\\item '月'\n\\item '日'\n\\item '開始'\n\\item '第一次'\n\\item '諮詢會'\n\\item '法還'\n\\item '沒'\n\\item '實施'\n\\item '但'\n\\item '基本'\n\\item '架構'\n\\item '該'\n\\item '做'\n\\item '事情'\n\\item '不'\n\\item '怠慢'\n\\item '盡早'\n\\item '凝聚'\n\\item '共識'\n\\item '有'\n\\item '秩序'\n\\item '進行'\n\\item '民眾'\n\\item '黨立委'\n\\item '蔡壁'\n\\item '如'\n\\item '指出'\n\\item '健康'\n\\item '飲食'\n\\item '有助於'\n\\item '降低'\n\\item '肥胖'\n\\item '及'\n\\item '預防'\n\\item '慢性病'\n\\item '如'\n\\item '高血壓'\n\\item '心臟'\n\\item '疾病'\n\\item '第二'\n\\item '型'\n\\item '糖尿病'\n\\item '中風'\n\\item '等'\n\\item '危機'\n\\item '能'\n\\item '讓'\n\\item '國人'\n\\item '健康'\n\\item '這也是'\n\\item '營養'\n\\item '及'\n\\item '健康'\n\\item '飲食'\n\\item '促進法'\n\\item '最'\n\\item '主要'\n\\item '宗旨'\n\\item '粗估'\n\\item '若'\n\\item '三'\n\\item '高'\n\\item '人口減少'\n\\item '每年'\n\\item '將'\n\\item '減少'\n\\item '幾十'\n\\item '億元'\n\\item '健保'\n\\item '支出'\n\\end{enumerate*}\n",
            "text/markdown": "1. '衛生'\n2. '福利部'\n3. '健保署'\n4. '統計'\n5. '年'\n6. '花費'\n7. '全民'\n8. '健康'\n9. '保險'\n10. '支出'\n11. '前'\n12. '十大'\n13. '疾病'\n14. '中'\n15. '急慢性'\n16. '腎臟病'\n17. '糖尿病'\n18. '高血壓'\n19. '缺血性'\n20. '心臟病'\n21. '皆'\n22. '為'\n23. '慢性'\n24. '疾病'\n25. '初步'\n26. '研究'\n27. '飲食'\n28. '有關'\n29. '衛'\n30. '福'\n31. '部長'\n32. '陳'\n33. '時'\n34. '中'\n35. '說'\n36. '營養'\n37. '及'\n38. '健康'\n39. '飲食'\n40. '促進法'\n41. '民國'\n42. '年'\n43. '已'\n44. '送'\n45. '進'\n46. '行政院'\n47. '去'\n48. '經過'\n49. '幾年'\n50. '廣泛'\n51. '討論'\n52. '今年'\n53. '初步'\n54. '列為'\n55. '優先'\n56. '法案'\n57. '希望'\n58. '這'\n59. '會期'\n60. '能'\n61. '討論'\n62. '到'\n63. '台灣民眾'\n64. '黨'\n65. '立法院'\n66. '黨團'\n67. '邀集'\n68. '衛福部'\n69. '國'\n70. '健'\n71. '署'\n72. '農委會'\n73. '輔導處'\n74. '等'\n75. '政府'\n76. '官員'\n77. '代表'\n78. '以及'\n79. '民進黨'\n80. '立委'\n81. '吳玉琴'\n82. '專家學者'\n83. '和'\n84. '民間團體'\n85. '針對'\n86. '營養'\n87. '及'\n88. '健康'\n89. '飲食'\n90. '促進法'\n91. '立法'\n92. '現況'\n93. '困境'\n94. '進行'\n95. '討論'\n96. '意見'\n97. '交流'\n98. '陳'\n99. '時'\n100. '中'\n101. '說'\n102. '對於'\n103. '飲食'\n104. '慢性傷害'\n105. '其實'\n106. '以前'\n107. '都'\n108. '沒'\n109. '這麼'\n110. '重視'\n111. '健康'\n112. '飲食'\n113. '跟'\n114. '食品安全'\n115. '一樣'\n116. '重要'\n117. '時代'\n118. '已'\n119. '相當'\n120. '進步'\n121. '不管'\n122. '是'\n123. '農委會'\n124. '或是'\n125. '食藥署'\n126. '對'\n127. '食品安全'\n128. '監測'\n129. '都'\n130. '到達'\n131. '一定'\n132. '安全'\n133. '水準'\n134. '現在'\n135. '開始'\n136. '說'\n137. '如何'\n138. '吃'\n139. '得'\n140. '更好'\n141. '因此'\n142. '提出'\n143. '營養'\n144. '飲食'\n145. '促進法'\n146. '陳'\n147. '時'\n148. '中'\n149. '說'\n150. '希望'\n151. '透過'\n152. '此法'\n153. '將'\n154. '各項'\n155. '促進'\n156. '飲食'\n157. '概念'\n158. '都'\n159. '能'\n160. '法案'\n161. '中'\n162. '表現'\n163. '雖然'\n164. '現在'\n165. '還未'\n166. '正式'\n167. '立法'\n168. '但'\n169. '相關'\n170. '行動'\n171. '已'\n172. '展開'\n173. '中央'\n174. '地方'\n175. '一起'\n176. '把'\n177. '這件'\n178. '事情'\n179. '做好'\n180. '例如'\n181. '健康'\n182. '飲食'\n183. '調查'\n184. '還有'\n185. '一些'\n186. '基準'\n187. '設定'\n188. '月'\n189. '日'\n190. '開始'\n191. '第一次'\n192. '諮詢會'\n193. '法還'\n194. '沒'\n195. '實施'\n196. '但'\n197. '基本'\n198. '架構'\n199. '該'\n200. '做'\n201. '事情'\n202. '不'\n203. '怠慢'\n204. '盡早'\n205. '凝聚'\n206. '共識'\n207. '有'\n208. '秩序'\n209. '進行'\n210. '民眾'\n211. '黨立委'\n212. '蔡壁'\n213. '如'\n214. '指出'\n215. '健康'\n216. '飲食'\n217. '有助於'\n218. '降低'\n219. '肥胖'\n220. '及'\n221. '預防'\n222. '慢性病'\n223. '如'\n224. '高血壓'\n225. '心臟'\n226. '疾病'\n227. '第二'\n228. '型'\n229. '糖尿病'\n230. '中風'\n231. '等'\n232. '危機'\n233. '能'\n234. '讓'\n235. '國人'\n236. '健康'\n237. '這也是'\n238. '營養'\n239. '及'\n240. '健康'\n241. '飲食'\n242. '促進法'\n243. '最'\n244. '主要'\n245. '宗旨'\n246. '粗估'\n247. '若'\n248. '三'\n249. '高'\n250. '人口減少'\n251. '每年'\n252. '將'\n253. '減少'\n254. '幾十'\n255. '億元'\n256. '健保'\n257. '支出'\n\n\n",
            "text/html": [
              "<style>\n",
              ".list-inline {list-style: none; margin:0; padding: 0}\n",
              ".list-inline>li {display: inline-block}\n",
              ".list-inline>li:not(:last-child)::after {content: \"\\00b7\"; padding: 0 .5ex}\n",
              "</style>\n",
              "<ol class=list-inline><li>'衛生'</li><li>'福利部'</li><li>'健保署'</li><li>'統計'</li><li>'年'</li><li>'花費'</li><li>'全民'</li><li>'健康'</li><li>'保險'</li><li>'支出'</li><li>'前'</li><li>'十大'</li><li>'疾病'</li><li>'中'</li><li>'急慢性'</li><li>'腎臟病'</li><li>'糖尿病'</li><li>'高血壓'</li><li>'缺血性'</li><li>'心臟病'</li><li>'皆'</li><li>'為'</li><li>'慢性'</li><li>'疾病'</li><li>'初步'</li><li>'研究'</li><li>'飲食'</li><li>'有關'</li><li>'衛'</li><li>'福'</li><li>'部長'</li><li>'陳'</li><li>'時'</li><li>'中'</li><li>'說'</li><li>'營養'</li><li>'及'</li><li>'健康'</li><li>'飲食'</li><li>'促進法'</li><li>'民國'</li><li>'年'</li><li>'已'</li><li>'送'</li><li>'進'</li><li>'行政院'</li><li>'去'</li><li>'經過'</li><li>'幾年'</li><li>'廣泛'</li><li>'討論'</li><li>'今年'</li><li>'初步'</li><li>'列為'</li><li>'優先'</li><li>'法案'</li><li>'希望'</li><li>'這'</li><li>'會期'</li><li>'能'</li><li>'討論'</li><li>'到'</li><li>'台灣民眾'</li><li>'黨'</li><li>'立法院'</li><li>'黨團'</li><li>'邀集'</li><li>'衛福部'</li><li>'國'</li><li>'健'</li><li>'署'</li><li>'農委會'</li><li>'輔導處'</li><li>'等'</li><li>'政府'</li><li>'官員'</li><li>'代表'</li><li>'以及'</li><li>'民進黨'</li><li>'立委'</li><li>'吳玉琴'</li><li>'專家學者'</li><li>'和'</li><li>'民間團體'</li><li>'針對'</li><li>'營養'</li><li>'及'</li><li>'健康'</li><li>'飲食'</li><li>'促進法'</li><li>'立法'</li><li>'現況'</li><li>'困境'</li><li>'進行'</li><li>'討論'</li><li>'意見'</li><li>'交流'</li><li>'陳'</li><li>'時'</li><li>'中'</li><li>'說'</li><li>'對於'</li><li>'飲食'</li><li>'慢性傷害'</li><li>'其實'</li><li>'以前'</li><li>'都'</li><li>'沒'</li><li>'這麼'</li><li>'重視'</li><li>'健康'</li><li>'飲食'</li><li>'跟'</li><li>'食品安全'</li><li>'一樣'</li><li>'重要'</li><li>'時代'</li><li>'已'</li><li>'相當'</li><li>'進步'</li><li>'不管'</li><li>'是'</li><li>'農委會'</li><li>'或是'</li><li>'食藥署'</li><li>'對'</li><li>'食品安全'</li><li>'監測'</li><li>'都'</li><li>'到達'</li><li>'一定'</li><li>'安全'</li><li>'水準'</li><li>'現在'</li><li>'開始'</li><li>'說'</li><li>'如何'</li><li>'吃'</li><li>'得'</li><li>'更好'</li><li>'因此'</li><li>'提出'</li><li>'營養'</li><li>'飲食'</li><li>'促進法'</li><li>'陳'</li><li>'時'</li><li>'中'</li><li>'說'</li><li>'希望'</li><li>'透過'</li><li>'此法'</li><li>'將'</li><li>'各項'</li><li>'促進'</li><li>'飲食'</li><li>'概念'</li><li>'都'</li><li>'能'</li><li>'法案'</li><li>'中'</li><li>'表現'</li><li>'雖然'</li><li>'現在'</li><li>'還未'</li><li>'正式'</li><li>'立法'</li><li>'但'</li><li>'相關'</li><li>'行動'</li><li>'已'</li><li>'展開'</li><li>'中央'</li><li>'地方'</li><li>'一起'</li><li>'把'</li><li>'這件'</li><li>'事情'</li><li>'做好'</li><li>'例如'</li><li>'健康'</li><li>'飲食'</li><li>'調查'</li><li>'還有'</li><li>'一些'</li><li>'基準'</li><li>'設定'</li><li>'月'</li><li>'日'</li><li>'開始'</li><li>'第一次'</li><li>'諮詢會'</li><li>'法還'</li><li>'沒'</li><li>'實施'</li><li>'但'</li><li>'基本'</li><li>'架構'</li><li>'該'</li><li>'做'</li><li>'事情'</li><li>'不'</li><li>'怠慢'</li><li>'盡早'</li><li>'凝聚'</li><li>'共識'</li><li>'有'</li><li>'秩序'</li><li>'進行'</li><li>'民眾'</li><li>'黨立委'</li><li>'蔡壁'</li><li>'如'</li><li>'指出'</li><li>'健康'</li><li>'飲食'</li><li>'有助於'</li><li>'降低'</li><li>'肥胖'</li><li>'及'</li><li>'預防'</li><li>'慢性病'</li><li>'如'</li><li>'高血壓'</li><li>'心臟'</li><li>'疾病'</li><li>'第二'</li><li>'型'</li><li>'糖尿病'</li><li>'中風'</li><li>'等'</li><li>'危機'</li><li>'能'</li><li>'讓'</li><li>'國人'</li><li>'健康'</li><li>'這也是'</li><li>'營養'</li><li>'及'</li><li>'健康'</li><li>'飲食'</li><li>'促進法'</li><li>'最'</li><li>'主要'</li><li>'宗旨'</li><li>'粗估'</li><li>'若'</li><li>'三'</li><li>'高'</li><li>'人口減少'</li><li>'每年'</li><li>'將'</li><li>'減少'</li><li>'幾十'</li><li>'億元'</li><li>'健保'</li><li>'支出'</li></ol>\n"
            ]
          },
          "metadata": {
            "tags": []
          }
        }
      ]
    },
    {
      "cell_type": "code",
      "metadata": {
        "colab": {
          "base_uri": "https://localhost:8080/",
          "height": 283
        },
        "id": "nrpU8QOvSdfs",
        "outputId": "e4745915-fa77-49f3-c9e0-6cfe7f072112"
      },
      "source": [
        "txt_freq <- freq(seg_words)\n",
        "txt_freq <- arrange(txt_freq, desc(freq))\n",
        "head(txt_freq)"
      ],
      "execution_count": 42,
      "outputs": [
        {
          "output_type": "display_data",
          "data": {
            "text/plain": [
              "  char   freq\n",
              "1 飲食   10  \n",
              "2 健康    8  \n",
              "3 中      5  \n",
              "4 說      4  \n",
              "5 營養    4  \n",
              "6 促進法  4  "
            ],
            "text/latex": "A data.frame: 6 × 2\n\\begin{tabular}{r|ll}\n  & char & freq\\\\\n  & <chr> & <dbl>\\\\\n\\hline\n\t1 & 飲食   & 10\\\\\n\t2 & 健康   &  8\\\\\n\t3 & 中     &  5\\\\\n\t4 & 說     &  4\\\\\n\t5 & 營養   &  4\\\\\n\t6 & 促進法 &  4\\\\\n\\end{tabular}\n",
            "text/markdown": "\nA data.frame: 6 × 2\n\n| <!--/--> | char &lt;chr&gt; | freq &lt;dbl&gt; |\n|---|---|---|\n| 1 | 飲食   | 10 |\n| 2 | 健康   |  8 |\n| 3 | 中     |  5 |\n| 4 | 說     |  4 |\n| 5 | 營養   |  4 |\n| 6 | 促進法 |  4 |\n\n",
            "text/html": [
              "<table class=\"dataframe\">\n",
              "<caption>A data.frame: 6 × 2</caption>\n",
              "<thead>\n",
              "\t<tr><th></th><th scope=col>char</th><th scope=col>freq</th></tr>\n",
              "\t<tr><th></th><th scope=col>&lt;chr&gt;</th><th scope=col>&lt;dbl&gt;</th></tr>\n",
              "</thead>\n",
              "<tbody>\n",
              "\t<tr><th scope=row>1</th><td>飲食  </td><td>10</td></tr>\n",
              "\t<tr><th scope=row>2</th><td>健康  </td><td> 8</td></tr>\n",
              "\t<tr><th scope=row>3</th><td>中    </td><td> 5</td></tr>\n",
              "\t<tr><th scope=row>4</th><td>說    </td><td> 4</td></tr>\n",
              "\t<tr><th scope=row>5</th><td>營養  </td><td> 4</td></tr>\n",
              "\t<tr><th scope=row>6</th><td>促進法</td><td> 4</td></tr>\n",
              "</tbody>\n",
              "</table>\n"
            ]
          },
          "metadata": {
            "tags": []
          }
        }
      ]
    },
    {
      "cell_type": "code",
      "metadata": {
        "colab": {
          "base_uri": "https://localhost:8080/"
        },
        "id": "C3wvTmiuYZxv",
        "outputId": "1288287d-7b4d-4fdb-dd58-63b1c388be3c"
      },
      "source": [
        "install.packages(\"showtext\")"
      ],
      "execution_count": 43,
      "outputs": [
        {
          "output_type": "stream",
          "text": [
            "Installing package into ‘/usr/local/lib/R/site-library’\n",
            "(as ‘lib’ is unspecified)\n",
            "\n"
          ],
          "name": "stderr"
        }
      ]
    },
    {
      "cell_type": "code",
      "metadata": {
        "id": "KREUz9bBYC0Y"
      },
      "source": [
        "library(showtext)"
      ],
      "execution_count": 44,
      "outputs": []
    },
    {
      "cell_type": "code",
      "metadata": {
        "id": "CZuD85ipY1p_"
      },
      "source": [
        "showtext.auto(enable=TRUE)"
      ],
      "execution_count": 45,
      "outputs": []
    },
    {
      "cell_type": "code",
      "metadata": {
        "id": "xPteLS1lQ3R2"
      },
      "source": [
        "par(family=(\"wqy-microhei\"))"
      ],
      "execution_count": 46,
      "outputs": []
    },
    {
      "cell_type": "code",
      "metadata": {
        "colab": {
          "base_uri": "https://localhost:8080/",
          "height": 437
        },
        "id": "6UWIHeLTSGHX",
        "outputId": "da9a99fc-3794-4d51-b88d-71b1d2d453f7"
      },
      "source": [
        "wordcloud(txt_freq$char, txt_freq$freq, min.freq = 2, random.order = F,\n",
        "ordered.colors = F, colors = rainbow(nrow(txt_freq)))"
      ],
      "execution_count": 47,
      "outputs": [
        {
          "output_type": "display_data",
          "data": {
            "image/png": "[encoded data removed]",
            "text/plain": [
              "plot without title"
            ]
          },
          "metadata": {
            "tags": [],
            "image/png": {
              "width": 420,
              "height": 420
            }
          }
        }
      ]
    },
    {
      "cell_type": "code",
      "metadata": {
        "id": "6_WWD5tdjwf1"
      },
      "source": [
        ""
      ],
      "execution_count": 48,
      "outputs": []
    }
  ]
}