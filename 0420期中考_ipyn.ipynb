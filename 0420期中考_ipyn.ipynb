{
  "nbformat": 4,
  "nbformat_minor": 0,
  "metadata": {
    "colab": {
      "name": "0420期中考.ipyn",
      "provenance": [],
      "collapsed_sections": [],
      "include_colab_link": true
    },
    "kernelspec": {
      "name": "ir",
      "display_name": "R"
    }
  },
  "cells": [
    {
      "cell_type": "markdown",
      "metadata": {
        "id": "view-in-github",
        "colab_type": "text"
      },
      "source": [
        "<a href=\"https://colab.research.google.com/github/ShaoPingrelax/bigdata/blob/main/0420%E6%9C%9F%E4%B8%AD%E8%80%83_ipyn.ipynb\" target=\"_parent\"><img src=\"https://colab.research.google.com/assets/colab-badge.svg\" alt=\"Open In Colab\"/></a>"
      ]
    },
    {
      "cell_type": "code",
      "metadata": {
        "colab": {
          "base_uri": "https://localhost:8080/"
        },
        "id": "_iIbq2lZcwwj",
        "outputId": "b4b98fb1-3348-44a4-acf9-685a6fea398b"
      },
      "source": [
        "install.packages(\"SportsAnalytics\")"
      ],
      "execution_count": 1,
      "outputs": [
        {
          "output_type": "stream",
          "text": [
            "Installing package into ‘/usr/local/lib/R/site-library’\n",
            "(as ‘lib’ is unspecified)\n",
            "\n"
          ],
          "name": "stderr"
        }
      ]
    },
    {
      "cell_type": "code",
      "metadata": {
        "id": "z38LErdadKtS"
      },
      "source": [
        "library(SportsAnalytics)"
      ],
      "execution_count": 2,
      "outputs": []
    },
    {
      "cell_type": "code",
      "metadata": {
        "id": "XJpEOVW4dT8q"
      },
      "source": [
        "NBA1718<-fetch_NBAPlayerStatistics(\"17-18\")"
      ],
      "execution_count": 3,
      "outputs": []
    },
    {
      "cell_type": "code",
      "metadata": {
        "colab": {
          "base_uri": "https://localhost:8080/"
        },
        "id": "kB4swMI7dgkb",
        "outputId": "874d11f4-5e9b-4797-d477-7f66d2a648ad"
      },
      "source": [
        "str(NBA1718)"
      ],
      "execution_count": 4,
      "outputs": [
        {
          "output_type": "stream",
          "text": [
            "'data.frame':\t540 obs. of  25 variables:\n",
            " $ League             : Factor w/ 1 level \"NBA\": 1 1 1 1 1 1 1 1 1 1 ...\n",
            " $ Name               : chr  \"Alex Abrines\" \"Quincy Acy\" \"Steven Adams\" \"Bam Adebayo\" ...\n",
            " $ Team               : Factor w/ 33 levels \"ATL\",\"BOS\",\"BRO\",..: 24 3 24 17 25 19 30 3 2 21 ...\n",
            " $ Position           : Factor w/ 5 levels \"C\",\"PF\",\"PG\",..: 5 4 1 2 5 1 2 1 5 5 ...\n",
            " $ GamesPlayed        : int  74 70 76 69 52 21 75 72 11 22 ...\n",
            " $ TotalMinutesPlayed : int  1134 1361 2486 1369 680 51 2512 1437 106 279 ...\n",
            " $ FieldGoalsMade     : int  115 130 448 174 65 5 687 234 6 44 ...\n",
            " $ FieldGoalsAttempted: int  291 365 712 340 162 15 1347 397 22 89 ...\n",
            " $ ThreesMade         : int  84 102 0 0 27 0 27 5 0 4 ...\n",
            " $ ThreesAttempted    : int  221 292 2 7 70 0 92 15 11 12 ...\n",
            " $ FreeThrowsMade     : int  39 49 160 129 22 2 334 114 7 11 ...\n",
            " $ FreeThrowsAttempted: int  46 60 286 179 26 6 399 147 9 21 ...\n",
            " $ OffensiveRebounds  : int  26 40 384 119 4 3 245 143 4 18 ...\n",
            " $ TotalRebounds      : int  113 257 684 382 66 15 634 386 11 45 ...\n",
            " $ Assists            : int  28 57 88 101 30 3 152 49 12 9 ...\n",
            " $ Steals             : int  38 34 92 32 4 2 43 28 3 11 ...\n",
            " $ Turnovers          : int  25 60 129 67 21 1 112 82 9 19 ...\n",
            " $ Blocks             : int  8 28 79 42 9 1 89 88 2 3 ...\n",
            " $ PersonalFouls      : int  124 149 215 138 56 11 161 148 14 49 ...\n",
            " $ Disqualifications  : int  0 0 1 0 0 0 1 1 0 0 ...\n",
            " $ TotalPoints        : int  353 411 1056 477 179 12 1735 587 19 103 ...\n",
            " $ Technicals         : int  0 4 9 2 2 0 3 1 0 1 ...\n",
            " $ Ejections          : int  0 0 0 0 0 0 0 0 0 0 ...\n",
            " $ FlagrantFouls      : int  0 0 0 0 0 0 0 0 0 0 ...\n",
            " $ GamesStarted       : int  8 8 76 19 3 0 75 31 1 0 ...\n"
          ],
          "name": "stdout"
        }
      ]
    },
    {
      "cell_type": "code",
      "metadata": {
        "colab": {
          "base_uri": "https://localhost:8080/",
          "height": 392
        },
        "id": "ZnOhTpXHdxPs",
        "outputId": "8d503fcf-ef9b-4196-e5eb-5f9abaa02732"
      },
      "source": [
        "head(NBA1718)"
      ],
      "execution_count": 5,
      "outputs": [
        {
          "output_type": "display_data",
          "data": {
            "text/plain": [
              "  League Name          Team Position GamesPlayed TotalMinutesPlayed\n",
              "1 NBA    Alex Abrines  OKL  SG       74          1134              \n",
              "2 NBA    Quincy Acy    BRO  SF       70          1361              \n",
              "3 NBA    Steven Adams  OKL  C        76          2486              \n",
              "4 NBA    Bam Adebayo   MIA  PF       69          1369              \n",
              "5 NBA    Arron Afflalo ORL  SG       52           680              \n",
              "6 NBA    Cole Aldrich  MIN  C        21            51              \n",
              "  FieldGoalsMade FieldGoalsAttempted ThreesMade ThreesAttempted ⋯ Steals\n",
              "1 115            291                  84        221             ⋯ 38    \n",
              "2 130            365                 102        292             ⋯ 34    \n",
              "3 448            712                   0          2             ⋯ 92    \n",
              "4 174            340                   0          7             ⋯ 32    \n",
              "5  65            162                  27         70             ⋯  4    \n",
              "6   5             15                   0          0             ⋯  2    \n",
              "  Turnovers Blocks PersonalFouls Disqualifications TotalPoints Technicals\n",
              "1  25        8     124           0                  353        0         \n",
              "2  60       28     149           0                  411        4         \n",
              "3 129       79     215           1                 1056        9         \n",
              "4  67       42     138           0                  477        2         \n",
              "5  21        9      56           0                  179        2         \n",
              "6   1        1      11           0                   12        0         \n",
              "  Ejections FlagrantFouls GamesStarted\n",
              "1 0         0              8          \n",
              "2 0         0              8          \n",
              "3 0         0             76          \n",
              "4 0         0             19          \n",
              "5 0         0              3          \n",
              "6 0         0              0          "
            ],
            "text/latex": "A data.frame: 6 × 25\n\\begin{tabular}{r|lllllllllllllllllllll}\n  & League & Name & Team & Position & GamesPlayed & TotalMinutesPlayed & FieldGoalsMade & FieldGoalsAttempted & ThreesMade & ThreesAttempted & ⋯ & Steals & Turnovers & Blocks & PersonalFouls & Disqualifications & TotalPoints & Technicals & Ejections & FlagrantFouls & GamesStarted\\\\\n  & <fct> & <chr> & <fct> & <fct> & <int> & <int> & <int> & <int> & <int> & <int> & ⋯ & <int> & <int> & <int> & <int> & <int> & <int> & <int> & <int> & <int> & <int>\\\\\n\\hline\n\t1 & NBA & Alex Abrines  & OKL & SG & 74 & 1134 & 115 & 291 &  84 & 221 & ⋯ & 38 &  25 &  8 & 124 & 0 &  353 & 0 & 0 & 0 &  8\\\\\n\t2 & NBA & Quincy Acy    & BRO & SF & 70 & 1361 & 130 & 365 & 102 & 292 & ⋯ & 34 &  60 & 28 & 149 & 0 &  411 & 4 & 0 & 0 &  8\\\\\n\t3 & NBA & Steven Adams  & OKL & C  & 76 & 2486 & 448 & 712 &   0 &   2 & ⋯ & 92 & 129 & 79 & 215 & 1 & 1056 & 9 & 0 & 0 & 76\\\\\n\t4 & NBA & Bam Adebayo   & MIA & PF & 69 & 1369 & 174 & 340 &   0 &   7 & ⋯ & 32 &  67 & 42 & 138 & 0 &  477 & 2 & 0 & 0 & 19\\\\\n\t5 & NBA & Arron Afflalo & ORL & SG & 52 &  680 &  65 & 162 &  27 &  70 & ⋯ &  4 &  21 &  9 &  56 & 0 &  179 & 2 & 0 & 0 &  3\\\\\n\t6 & NBA & Cole Aldrich  & MIN & C  & 21 &   51 &   5 &  15 &   0 &   0 & ⋯ &  2 &   1 &  1 &  11 & 0 &   12 & 0 & 0 & 0 &  0\\\\\n\\end{tabular}\n",
            "text/markdown": "\nA data.frame: 6 × 25\n\n| <!--/--> | League &lt;fct&gt; | Name &lt;chr&gt; | Team &lt;fct&gt; | Position &lt;fct&gt; | GamesPlayed &lt;int&gt; | TotalMinutesPlayed &lt;int&gt; | FieldGoalsMade &lt;int&gt; | FieldGoalsAttempted &lt;int&gt; | ThreesMade &lt;int&gt; | ThreesAttempted &lt;int&gt; | ⋯ ⋯ | Steals &lt;int&gt; | Turnovers &lt;int&gt; | Blocks &lt;int&gt; | PersonalFouls &lt;int&gt; | Disqualifications &lt;int&gt; | TotalPoints &lt;int&gt; | Technicals &lt;int&gt; | Ejections &lt;int&gt; | FlagrantFouls &lt;int&gt; | GamesStarted &lt;int&gt; |\n|---|---|---|---|---|---|---|---|---|---|---|---|---|---|---|---|---|---|---|---|---|---|\n| 1 | NBA | Alex Abrines  | OKL | SG | 74 | 1134 | 115 | 291 |  84 | 221 | ⋯ | 38 |  25 |  8 | 124 | 0 |  353 | 0 | 0 | 0 |  8 |\n| 2 | NBA | Quincy Acy    | BRO | SF | 70 | 1361 | 130 | 365 | 102 | 292 | ⋯ | 34 |  60 | 28 | 149 | 0 |  411 | 4 | 0 | 0 |  8 |\n| 3 | NBA | Steven Adams  | OKL | C  | 76 | 2486 | 448 | 712 |   0 |   2 | ⋯ | 92 | 129 | 79 | 215 | 1 | 1056 | 9 | 0 | 0 | 76 |\n| 4 | NBA | Bam Adebayo   | MIA | PF | 69 | 1369 | 174 | 340 |   0 |   7 | ⋯ | 32 |  67 | 42 | 138 | 0 |  477 | 2 | 0 | 0 | 19 |\n| 5 | NBA | Arron Afflalo | ORL | SG | 52 |  680 |  65 | 162 |  27 |  70 | ⋯ |  4 |  21 |  9 |  56 | 0 |  179 | 2 | 0 | 0 |  3 |\n| 6 | NBA | Cole Aldrich  | MIN | C  | 21 |   51 |   5 |  15 |   0 |   0 | ⋯ |  2 |   1 |  1 |  11 | 0 |   12 | 0 | 0 | 0 |  0 |\n\n",
            "text/html": [
              "<table class=\"dataframe\">\n",
              "<caption>A data.frame: 6 × 25</caption>\n",
              "<thead>\n",
              "\t<tr><th></th><th scope=col>League</th><th scope=col>Name</th><th scope=col>Team</th><th scope=col>Position</th><th scope=col>GamesPlayed</th><th scope=col>TotalMinutesPlayed</th><th scope=col>FieldGoalsMade</th><th scope=col>FieldGoalsAttempted</th><th scope=col>ThreesMade</th><th scope=col>ThreesAttempted</th><th scope=col>⋯</th><th scope=col>Steals</th><th scope=col>Turnovers</th><th scope=col>Blocks</th><th scope=col>PersonalFouls</th><th scope=col>Disqualifications</th><th scope=col>TotalPoints</th><th scope=col>Technicals</th><th scope=col>Ejections</th><th scope=col>FlagrantFouls</th><th scope=col>GamesStarted</th></tr>\n",
              "\t<tr><th></th><th scope=col>&lt;fct&gt;</th><th scope=col>&lt;chr&gt;</th><th scope=col>&lt;fct&gt;</th><th scope=col>&lt;fct&gt;</th><th scope=col>&lt;int&gt;</th><th scope=col>&lt;int&gt;</th><th scope=col>&lt;int&gt;</th><th scope=col>&lt;int&gt;</th><th scope=col>&lt;int&gt;</th><th scope=col>&lt;int&gt;</th><th scope=col>⋯</th><th scope=col>&lt;int&gt;</th><th scope=col>&lt;int&gt;</th><th scope=col>&lt;int&gt;</th><th scope=col>&lt;int&gt;</th><th scope=col>&lt;int&gt;</th><th scope=col>&lt;int&gt;</th><th scope=col>&lt;int&gt;</th><th scope=col>&lt;int&gt;</th><th scope=col>&lt;int&gt;</th><th scope=col>&lt;int&gt;</th></tr>\n",
              "</thead>\n",
              "<tbody>\n",
              "\t<tr><th scope=row>1</th><td>NBA</td><td>Alex Abrines </td><td>OKL</td><td>SG</td><td>74</td><td>1134</td><td>115</td><td>291</td><td> 84</td><td>221</td><td>⋯</td><td>38</td><td> 25</td><td> 8</td><td>124</td><td>0</td><td> 353</td><td>0</td><td>0</td><td>0</td><td> 8</td></tr>\n",
              "\t<tr><th scope=row>2</th><td>NBA</td><td>Quincy Acy   </td><td>BRO</td><td>SF</td><td>70</td><td>1361</td><td>130</td><td>365</td><td>102</td><td>292</td><td>⋯</td><td>34</td><td> 60</td><td>28</td><td>149</td><td>0</td><td> 411</td><td>4</td><td>0</td><td>0</td><td> 8</td></tr>\n",
              "\t<tr><th scope=row>3</th><td>NBA</td><td>Steven Adams </td><td>OKL</td><td>C </td><td>76</td><td>2486</td><td>448</td><td>712</td><td>  0</td><td>  2</td><td>⋯</td><td>92</td><td>129</td><td>79</td><td>215</td><td>1</td><td>1056</td><td>9</td><td>0</td><td>0</td><td>76</td></tr>\n",
              "\t<tr><th scope=row>4</th><td>NBA</td><td>Bam Adebayo  </td><td>MIA</td><td>PF</td><td>69</td><td>1369</td><td>174</td><td>340</td><td>  0</td><td>  7</td><td>⋯</td><td>32</td><td> 67</td><td>42</td><td>138</td><td>0</td><td> 477</td><td>2</td><td>0</td><td>0</td><td>19</td></tr>\n",
              "\t<tr><th scope=row>5</th><td>NBA</td><td>Arron Afflalo</td><td>ORL</td><td>SG</td><td>52</td><td> 680</td><td> 65</td><td>162</td><td> 27</td><td> 70</td><td>⋯</td><td> 4</td><td> 21</td><td> 9</td><td> 56</td><td>0</td><td> 179</td><td>2</td><td>0</td><td>0</td><td> 3</td></tr>\n",
              "\t<tr><th scope=row>6</th><td>NBA</td><td>Cole Aldrich </td><td>MIN</td><td>C </td><td>21</td><td>  51</td><td>  5</td><td> 15</td><td>  0</td><td>  0</td><td>⋯</td><td> 2</td><td>  1</td><td> 1</td><td> 11</td><td>0</td><td>  12</td><td>0</td><td>0</td><td>0</td><td> 0</td></tr>\n",
              "</tbody>\n",
              "</table>\n"
            ]
          },
          "metadata": {
            "tags": []
          }
        }
      ]
    },
    {
      "cell_type": "code",
      "metadata": {
        "colab": {
          "base_uri": "https://localhost:8080/",
          "height": 806
        },
        "id": "NrjzbZ8Id0yL",
        "outputId": "7457e72c-77b3-4417-a8b3-904b6464f39a"
      },
      "source": [
        "NBA1718Order<-NBA1718[order(NBA1718$FieldGoalsMade,decreasing = T),]\n",
        "NBA1718Order[1:20,]"
      ],
      "execution_count": 6,
      "outputs": [
        {
          "output_type": "display_data",
          "data": {
            "text/plain": [
              "    League Name             Team Position GamesPlayed TotalMinutesPlayed\n",
              "248 NBA    Lebron James     CLE  SF       82          3024              \n",
              "123 NBA    Anthony Davis    NOR  PF       75          2740              \n",
              "508 NBA    Russel Westbrook OKL  PG       80          2916              \n",
              "16  NBA    Gi Antetokounmpo MIL  SF       75          2760              \n",
              "7   NBA    Lamarcu Aldridge SAN  PF       75          2512              \n",
              "37  NBA    Bradley Beal     WAS  SG       82          2977              \n",
              "322 NBA    Cj Mccollum      POR  SG       81          2922              \n",
              "195 NBA    James Harden     HOU  SG       72          2547              \n",
              "131 NBA    Demar Derozan    TOR  SG       80          2707              \n",
              "382 NBA    Victor Oladipo   IND  SG       75          2555              \n",
              "484 NBA    Karl-antho Towns MIN  C        82          2920              \n",
              "144 NBA    Kevin Durant     GSW  SF       68          2327              \n",
              "298 NBA    Damian Lillard   POR  PG       73          2670              \n",
              "220 NBA    Jrue Holiday     NOR  PG       81          2924              \n",
              "343 NBA    Donovan Mitchell UTA  SG       79          2638              \n",
              "336 NBA    Khris Middleton  MIL  SF       82          2980              \n",
              "498 NBA    Kemba Walker     CHA  PG       80          2738              \n",
              "520 NBA    Lou Williams     LAC  SG       79          2589              \n",
              "174 NBA    Paul George      OKL  SF       79          2892              \n",
              "480 NBA    Klay Thompson    GSW  SG       73          2491              \n",
              "    FieldGoalsMade FieldGoalsAttempted ThreesMade ThreesAttempted ⋯ Steals\n",
              "248 857            1580                149        406             ⋯ 117   \n",
              "123 780            1462                 55        161             ⋯ 115   \n",
              "508 757            1687                 97        326             ⋯ 148   \n",
              "16  742            1402                 43        140             ⋯ 108   \n",
              "7   687            1347                 27         92             ⋯  43   \n",
              "37  683            1484                199        530             ⋯  97   \n",
              "322 667            1504                189        476             ⋯  77   \n",
              "195 651            1448                265        722             ⋯ 126   \n",
              "131 645            1413                 89        287             ⋯  86   \n",
              "382 640            1340                161        434             ⋯ 175   \n",
              "484 639            1171                120        285             ⋯  64   \n",
              "144 630            1221                173        413             ⋯  50   \n",
              "298 621            1415                227        628             ⋯  78   \n",
              "220 615            1244                120        356             ⋯ 122   \n",
              "343 595            1362                187        550             ⋯ 118   \n",
              "336 593            1271                146        406             ⋯ 118   \n",
              "498 588            1363                231        601             ⋯  92   \n",
              "520 582            1337                186        518             ⋯  85   \n",
              "174 576            1340                244        609             ⋯ 161   \n",
              "480 575            1179                229        519             ⋯  56   \n",
              "    Turnovers Blocks PersonalFouls Disqualifications TotalPoints Technicals\n",
              "248 348        71    135           0                 2251         6        \n",
              "123 162       191    159           2                 2110         5        \n",
              "508 381        20    200           1                 2028        14        \n",
              "16  221       106    231           2                 2014         3        \n",
              "7   112        89    161           1                 1735         3        \n",
              "37  214        35    160           1                 1857         3        \n",
              "322 152        35    168           0                 1732         1        \n",
              "195 315        50    169           1                 2191         6        \n",
              "131 176        22    151           0                 1840         4        \n",
              "382 222        57    175           0                 1735         2        \n",
              "484 160       116    285           3                 1743         4        \n",
              "144 208       119    133           0                 1792        12        \n",
              "298 205        27    117           0                 1962         1        \n",
              "220 216        64    201           1                 1537         0        \n",
              "343 217        27    213           0                 1616         2        \n",
              "336 191        21    270           1                 1652         4        \n",
              "498 179        24     98           0                 1770         0        \n",
              "520 234        20    106           0                 1782         2        \n",
              "174 212        39    232           1                 1734         6        \n",
              "480 128        34    117           0                 1461         1        \n",
              "    Ejections FlagrantFouls GamesStarted\n",
              "248 0         0             82          \n",
              "123 0         0             75          \n",
              "508 0         0             80          \n",
              "16  0         0             75          \n",
              "7   0         0             75          \n",
              "37  0         0             82          \n",
              "322 0         0             81          \n",
              "195 0         0             72          \n",
              "131 0         0             80          \n",
              "382 0         0             75          \n",
              "484 0         0             82          \n",
              "144 0         0             68          \n",
              "298 0         0             73          \n",
              "220 0         0             81          \n",
              "343 0         0             71          \n",
              "336 0         0             82          \n",
              "498 0         0             80          \n",
              "520 0         0             19          \n",
              "174 0         0             79          \n",
              "480 0         0             73          "
            ],
            "text/latex": "A data.frame: 20 × 25\n\\begin{tabular}{r|lllllllllllllllllllll}\n  & League & Name & Team & Position & GamesPlayed & TotalMinutesPlayed & FieldGoalsMade & FieldGoalsAttempted & ThreesMade & ThreesAttempted & ⋯ & Steals & Turnovers & Blocks & PersonalFouls & Disqualifications & TotalPoints & Technicals & Ejections & FlagrantFouls & GamesStarted\\\\\n  & <fct> & <chr> & <fct> & <fct> & <int> & <int> & <int> & <int> & <int> & <int> & ⋯ & <int> & <int> & <int> & <int> & <int> & <int> & <int> & <int> & <int> & <int>\\\\\n\\hline\n\t248 & NBA & Lebron James     & CLE & SF & 82 & 3024 & 857 & 1580 & 149 & 406 & ⋯ & 117 & 348 &  71 & 135 & 0 & 2251 &  6 & 0 & 0 & 82\\\\\n\t123 & NBA & Anthony Davis    & NOR & PF & 75 & 2740 & 780 & 1462 &  55 & 161 & ⋯ & 115 & 162 & 191 & 159 & 2 & 2110 &  5 & 0 & 0 & 75\\\\\n\t508 & NBA & Russel Westbrook & OKL & PG & 80 & 2916 & 757 & 1687 &  97 & 326 & ⋯ & 148 & 381 &  20 & 200 & 1 & 2028 & 14 & 0 & 0 & 80\\\\\n\t16 & NBA & Gi Antetokounmpo & MIL & SF & 75 & 2760 & 742 & 1402 &  43 & 140 & ⋯ & 108 & 221 & 106 & 231 & 2 & 2014 &  3 & 0 & 0 & 75\\\\\n\t7 & NBA & Lamarcu Aldridge & SAN & PF & 75 & 2512 & 687 & 1347 &  27 &  92 & ⋯ &  43 & 112 &  89 & 161 & 1 & 1735 &  3 & 0 & 0 & 75\\\\\n\t37 & NBA & Bradley Beal     & WAS & SG & 82 & 2977 & 683 & 1484 & 199 & 530 & ⋯ &  97 & 214 &  35 & 160 & 1 & 1857 &  3 & 0 & 0 & 82\\\\\n\t322 & NBA & Cj Mccollum      & POR & SG & 81 & 2922 & 667 & 1504 & 189 & 476 & ⋯ &  77 & 152 &  35 & 168 & 0 & 1732 &  1 & 0 & 0 & 81\\\\\n\t195 & NBA & James Harden     & HOU & SG & 72 & 2547 & 651 & 1448 & 265 & 722 & ⋯ & 126 & 315 &  50 & 169 & 1 & 2191 &  6 & 0 & 0 & 72\\\\\n\t131 & NBA & Demar Derozan    & TOR & SG & 80 & 2707 & 645 & 1413 &  89 & 287 & ⋯ &  86 & 176 &  22 & 151 & 0 & 1840 &  4 & 0 & 0 & 80\\\\\n\t382 & NBA & Victor Oladipo   & IND & SG & 75 & 2555 & 640 & 1340 & 161 & 434 & ⋯ & 175 & 222 &  57 & 175 & 0 & 1735 &  2 & 0 & 0 & 75\\\\\n\t484 & NBA & Karl-antho Towns & MIN & C  & 82 & 2920 & 639 & 1171 & 120 & 285 & ⋯ &  64 & 160 & 116 & 285 & 3 & 1743 &  4 & 0 & 0 & 82\\\\\n\t144 & NBA & Kevin Durant     & GSW & SF & 68 & 2327 & 630 & 1221 & 173 & 413 & ⋯ &  50 & 208 & 119 & 133 & 0 & 1792 & 12 & 0 & 0 & 68\\\\\n\t298 & NBA & Damian Lillard   & POR & PG & 73 & 2670 & 621 & 1415 & 227 & 628 & ⋯ &  78 & 205 &  27 & 117 & 0 & 1962 &  1 & 0 & 0 & 73\\\\\n\t220 & NBA & Jrue Holiday     & NOR & PG & 81 & 2924 & 615 & 1244 & 120 & 356 & ⋯ & 122 & 216 &  64 & 201 & 1 & 1537 &  0 & 0 & 0 & 81\\\\\n\t343 & NBA & Donovan Mitchell & UTA & SG & 79 & 2638 & 595 & 1362 & 187 & 550 & ⋯ & 118 & 217 &  27 & 213 & 0 & 1616 &  2 & 0 & 0 & 71\\\\\n\t336 & NBA & Khris Middleton  & MIL & SF & 82 & 2980 & 593 & 1271 & 146 & 406 & ⋯ & 118 & 191 &  21 & 270 & 1 & 1652 &  4 & 0 & 0 & 82\\\\\n\t498 & NBA & Kemba Walker     & CHA & PG & 80 & 2738 & 588 & 1363 & 231 & 601 & ⋯ &  92 & 179 &  24 &  98 & 0 & 1770 &  0 & 0 & 0 & 80\\\\\n\t520 & NBA & Lou Williams     & LAC & SG & 79 & 2589 & 582 & 1337 & 186 & 518 & ⋯ &  85 & 234 &  20 & 106 & 0 & 1782 &  2 & 0 & 0 & 19\\\\\n\t174 & NBA & Paul George      & OKL & SF & 79 & 2892 & 576 & 1340 & 244 & 609 & ⋯ & 161 & 212 &  39 & 232 & 1 & 1734 &  6 & 0 & 0 & 79\\\\\n\t480 & NBA & Klay Thompson    & GSW & SG & 73 & 2491 & 575 & 1179 & 229 & 519 & ⋯ &  56 & 128 &  34 & 117 & 0 & 1461 &  1 & 0 & 0 & 73\\\\\n\\end{tabular}\n",
            "text/markdown": "\nA data.frame: 20 × 25\n\n| <!--/--> | League &lt;fct&gt; | Name &lt;chr&gt; | Team &lt;fct&gt; | Position &lt;fct&gt; | GamesPlayed &lt;int&gt; | TotalMinutesPlayed &lt;int&gt; | FieldGoalsMade &lt;int&gt; | FieldGoalsAttempted &lt;int&gt; | ThreesMade &lt;int&gt; | ThreesAttempted &lt;int&gt; | ⋯ ⋯ | Steals &lt;int&gt; | Turnovers &lt;int&gt; | Blocks &lt;int&gt; | PersonalFouls &lt;int&gt; | Disqualifications &lt;int&gt; | TotalPoints &lt;int&gt; | Technicals &lt;int&gt; | Ejections &lt;int&gt; | FlagrantFouls &lt;int&gt; | GamesStarted &lt;int&gt; |\n|---|---|---|---|---|---|---|---|---|---|---|---|---|---|---|---|---|---|---|---|---|---|\n| 248 | NBA | Lebron James     | CLE | SF | 82 | 3024 | 857 | 1580 | 149 | 406 | ⋯ | 117 | 348 |  71 | 135 | 0 | 2251 |  6 | 0 | 0 | 82 |\n| 123 | NBA | Anthony Davis    | NOR | PF | 75 | 2740 | 780 | 1462 |  55 | 161 | ⋯ | 115 | 162 | 191 | 159 | 2 | 2110 |  5 | 0 | 0 | 75 |\n| 508 | NBA | Russel Westbrook | OKL | PG | 80 | 2916 | 757 | 1687 |  97 | 326 | ⋯ | 148 | 381 |  20 | 200 | 1 | 2028 | 14 | 0 | 0 | 80 |\n| 16 | NBA | Gi Antetokounmpo | MIL | SF | 75 | 2760 | 742 | 1402 |  43 | 140 | ⋯ | 108 | 221 | 106 | 231 | 2 | 2014 |  3 | 0 | 0 | 75 |\n| 7 | NBA | Lamarcu Aldridge | SAN | PF | 75 | 2512 | 687 | 1347 |  27 |  92 | ⋯ |  43 | 112 |  89 | 161 | 1 | 1735 |  3 | 0 | 0 | 75 |\n| 37 | NBA | Bradley Beal     | WAS | SG | 82 | 2977 | 683 | 1484 | 199 | 530 | ⋯ |  97 | 214 |  35 | 160 | 1 | 1857 |  3 | 0 | 0 | 82 |\n| 322 | NBA | Cj Mccollum      | POR | SG | 81 | 2922 | 667 | 1504 | 189 | 476 | ⋯ |  77 | 152 |  35 | 168 | 0 | 1732 |  1 | 0 | 0 | 81 |\n| 195 | NBA | James Harden     | HOU | SG | 72 | 2547 | 651 | 1448 | 265 | 722 | ⋯ | 126 | 315 |  50 | 169 | 1 | 2191 |  6 | 0 | 0 | 72 |\n| 131 | NBA | Demar Derozan    | TOR | SG | 80 | 2707 | 645 | 1413 |  89 | 287 | ⋯ |  86 | 176 |  22 | 151 | 0 | 1840 |  4 | 0 | 0 | 80 |\n| 382 | NBA | Victor Oladipo   | IND | SG | 75 | 2555 | 640 | 1340 | 161 | 434 | ⋯ | 175 | 222 |  57 | 175 | 0 | 1735 |  2 | 0 | 0 | 75 |\n| 484 | NBA | Karl-antho Towns | MIN | C  | 82 | 2920 | 639 | 1171 | 120 | 285 | ⋯ |  64 | 160 | 116 | 285 | 3 | 1743 |  4 | 0 | 0 | 82 |\n| 144 | NBA | Kevin Durant     | GSW | SF | 68 | 2327 | 630 | 1221 | 173 | 413 | ⋯ |  50 | 208 | 119 | 133 | 0 | 1792 | 12 | 0 | 0 | 68 |\n| 298 | NBA | Damian Lillard   | POR | PG | 73 | 2670 | 621 | 1415 | 227 | 628 | ⋯ |  78 | 205 |  27 | 117 | 0 | 1962 |  1 | 0 | 0 | 73 |\n| 220 | NBA | Jrue Holiday     | NOR | PG | 81 | 2924 | 615 | 1244 | 120 | 356 | ⋯ | 122 | 216 |  64 | 201 | 1 | 1537 |  0 | 0 | 0 | 81 |\n| 343 | NBA | Donovan Mitchell | UTA | SG | 79 | 2638 | 595 | 1362 | 187 | 550 | ⋯ | 118 | 217 |  27 | 213 | 0 | 1616 |  2 | 0 | 0 | 71 |\n| 336 | NBA | Khris Middleton  | MIL | SF | 82 | 2980 | 593 | 1271 | 146 | 406 | ⋯ | 118 | 191 |  21 | 270 | 1 | 1652 |  4 | 0 | 0 | 82 |\n| 498 | NBA | Kemba Walker     | CHA | PG | 80 | 2738 | 588 | 1363 | 231 | 601 | ⋯ |  92 | 179 |  24 |  98 | 0 | 1770 |  0 | 0 | 0 | 80 |\n| 520 | NBA | Lou Williams     | LAC | SG | 79 | 2589 | 582 | 1337 | 186 | 518 | ⋯ |  85 | 234 |  20 | 106 | 0 | 1782 |  2 | 0 | 0 | 19 |\n| 174 | NBA | Paul George      | OKL | SF | 79 | 2892 | 576 | 1340 | 244 | 609 | ⋯ | 161 | 212 |  39 | 232 | 1 | 1734 |  6 | 0 | 0 | 79 |\n| 480 | NBA | Klay Thompson    | GSW | SG | 73 | 2491 | 575 | 1179 | 229 | 519 | ⋯ |  56 | 128 |  34 | 117 | 0 | 1461 |  1 | 0 | 0 | 73 |\n\n",
            "text/html": [
              "<table class=\"dataframe\">\n",
              "<caption>A data.frame: 20 × 25</caption>\n",
              "<thead>\n",
              "\t<tr><th></th><th scope=col>League</th><th scope=col>Name</th><th scope=col>Team</th><th scope=col>Position</th><th scope=col>GamesPlayed</th><th scope=col>TotalMinutesPlayed</th><th scope=col>FieldGoalsMade</th><th scope=col>FieldGoalsAttempted</th><th scope=col>ThreesMade</th><th scope=col>ThreesAttempted</th><th scope=col>⋯</th><th scope=col>Steals</th><th scope=col>Turnovers</th><th scope=col>Blocks</th><th scope=col>PersonalFouls</th><th scope=col>Disqualifications</th><th scope=col>TotalPoints</th><th scope=col>Technicals</th><th scope=col>Ejections</th><th scope=col>FlagrantFouls</th><th scope=col>GamesStarted</th></tr>\n",
              "\t<tr><th></th><th scope=col>&lt;fct&gt;</th><th scope=col>&lt;chr&gt;</th><th scope=col>&lt;fct&gt;</th><th scope=col>&lt;fct&gt;</th><th scope=col>&lt;int&gt;</th><th scope=col>&lt;int&gt;</th><th scope=col>&lt;int&gt;</th><th scope=col>&lt;int&gt;</th><th scope=col>&lt;int&gt;</th><th scope=col>&lt;int&gt;</th><th scope=col>⋯</th><th scope=col>&lt;int&gt;</th><th scope=col>&lt;int&gt;</th><th scope=col>&lt;int&gt;</th><th scope=col>&lt;int&gt;</th><th scope=col>&lt;int&gt;</th><th scope=col>&lt;int&gt;</th><th scope=col>&lt;int&gt;</th><th scope=col>&lt;int&gt;</th><th scope=col>&lt;int&gt;</th><th scope=col>&lt;int&gt;</th></tr>\n",
              "</thead>\n",
              "<tbody>\n",
              "\t<tr><th scope=row>248</th><td>NBA</td><td>Lebron James    </td><td>CLE</td><td>SF</td><td>82</td><td>3024</td><td>857</td><td>1580</td><td>149</td><td>406</td><td>⋯</td><td>117</td><td>348</td><td> 71</td><td>135</td><td>0</td><td>2251</td><td> 6</td><td>0</td><td>0</td><td>82</td></tr>\n",
              "\t<tr><th scope=row>123</th><td>NBA</td><td>Anthony Davis   </td><td>NOR</td><td>PF</td><td>75</td><td>2740</td><td>780</td><td>1462</td><td> 55</td><td>161</td><td>⋯</td><td>115</td><td>162</td><td>191</td><td>159</td><td>2</td><td>2110</td><td> 5</td><td>0</td><td>0</td><td>75</td></tr>\n",
              "\t<tr><th scope=row>508</th><td>NBA</td><td>Russel Westbrook</td><td>OKL</td><td>PG</td><td>80</td><td>2916</td><td>757</td><td>1687</td><td> 97</td><td>326</td><td>⋯</td><td>148</td><td>381</td><td> 20</td><td>200</td><td>1</td><td>2028</td><td>14</td><td>0</td><td>0</td><td>80</td></tr>\n",
              "\t<tr><th scope=row>16</th><td>NBA</td><td>Gi Antetokounmpo</td><td>MIL</td><td>SF</td><td>75</td><td>2760</td><td>742</td><td>1402</td><td> 43</td><td>140</td><td>⋯</td><td>108</td><td>221</td><td>106</td><td>231</td><td>2</td><td>2014</td><td> 3</td><td>0</td><td>0</td><td>75</td></tr>\n",
              "\t<tr><th scope=row>7</th><td>NBA</td><td>Lamarcu Aldridge</td><td>SAN</td><td>PF</td><td>75</td><td>2512</td><td>687</td><td>1347</td><td> 27</td><td> 92</td><td>⋯</td><td> 43</td><td>112</td><td> 89</td><td>161</td><td>1</td><td>1735</td><td> 3</td><td>0</td><td>0</td><td>75</td></tr>\n",
              "\t<tr><th scope=row>37</th><td>NBA</td><td>Bradley Beal    </td><td>WAS</td><td>SG</td><td>82</td><td>2977</td><td>683</td><td>1484</td><td>199</td><td>530</td><td>⋯</td><td> 97</td><td>214</td><td> 35</td><td>160</td><td>1</td><td>1857</td><td> 3</td><td>0</td><td>0</td><td>82</td></tr>\n",
              "\t<tr><th scope=row>322</th><td>NBA</td><td>Cj Mccollum     </td><td>POR</td><td>SG</td><td>81</td><td>2922</td><td>667</td><td>1504</td><td>189</td><td>476</td><td>⋯</td><td> 77</td><td>152</td><td> 35</td><td>168</td><td>0</td><td>1732</td><td> 1</td><td>0</td><td>0</td><td>81</td></tr>\n",
              "\t<tr><th scope=row>195</th><td>NBA</td><td>James Harden    </td><td>HOU</td><td>SG</td><td>72</td><td>2547</td><td>651</td><td>1448</td><td>265</td><td>722</td><td>⋯</td><td>126</td><td>315</td><td> 50</td><td>169</td><td>1</td><td>2191</td><td> 6</td><td>0</td><td>0</td><td>72</td></tr>\n",
              "\t<tr><th scope=row>131</th><td>NBA</td><td>Demar Derozan   </td><td>TOR</td><td>SG</td><td>80</td><td>2707</td><td>645</td><td>1413</td><td> 89</td><td>287</td><td>⋯</td><td> 86</td><td>176</td><td> 22</td><td>151</td><td>0</td><td>1840</td><td> 4</td><td>0</td><td>0</td><td>80</td></tr>\n",
              "\t<tr><th scope=row>382</th><td>NBA</td><td>Victor Oladipo  </td><td>IND</td><td>SG</td><td>75</td><td>2555</td><td>640</td><td>1340</td><td>161</td><td>434</td><td>⋯</td><td>175</td><td>222</td><td> 57</td><td>175</td><td>0</td><td>1735</td><td> 2</td><td>0</td><td>0</td><td>75</td></tr>\n",
              "\t<tr><th scope=row>484</th><td>NBA</td><td>Karl-antho Towns</td><td>MIN</td><td>C </td><td>82</td><td>2920</td><td>639</td><td>1171</td><td>120</td><td>285</td><td>⋯</td><td> 64</td><td>160</td><td>116</td><td>285</td><td>3</td><td>1743</td><td> 4</td><td>0</td><td>0</td><td>82</td></tr>\n",
              "\t<tr><th scope=row>144</th><td>NBA</td><td>Kevin Durant    </td><td>GSW</td><td>SF</td><td>68</td><td>2327</td><td>630</td><td>1221</td><td>173</td><td>413</td><td>⋯</td><td> 50</td><td>208</td><td>119</td><td>133</td><td>0</td><td>1792</td><td>12</td><td>0</td><td>0</td><td>68</td></tr>\n",
              "\t<tr><th scope=row>298</th><td>NBA</td><td>Damian Lillard  </td><td>POR</td><td>PG</td><td>73</td><td>2670</td><td>621</td><td>1415</td><td>227</td><td>628</td><td>⋯</td><td> 78</td><td>205</td><td> 27</td><td>117</td><td>0</td><td>1962</td><td> 1</td><td>0</td><td>0</td><td>73</td></tr>\n",
              "\t<tr><th scope=row>220</th><td>NBA</td><td>Jrue Holiday    </td><td>NOR</td><td>PG</td><td>81</td><td>2924</td><td>615</td><td>1244</td><td>120</td><td>356</td><td>⋯</td><td>122</td><td>216</td><td> 64</td><td>201</td><td>1</td><td>1537</td><td> 0</td><td>0</td><td>0</td><td>81</td></tr>\n",
              "\t<tr><th scope=row>343</th><td>NBA</td><td>Donovan Mitchell</td><td>UTA</td><td>SG</td><td>79</td><td>2638</td><td>595</td><td>1362</td><td>187</td><td>550</td><td>⋯</td><td>118</td><td>217</td><td> 27</td><td>213</td><td>0</td><td>1616</td><td> 2</td><td>0</td><td>0</td><td>71</td></tr>\n",
              "\t<tr><th scope=row>336</th><td>NBA</td><td>Khris Middleton </td><td>MIL</td><td>SF</td><td>82</td><td>2980</td><td>593</td><td>1271</td><td>146</td><td>406</td><td>⋯</td><td>118</td><td>191</td><td> 21</td><td>270</td><td>1</td><td>1652</td><td> 4</td><td>0</td><td>0</td><td>82</td></tr>\n",
              "\t<tr><th scope=row>498</th><td>NBA</td><td>Kemba Walker    </td><td>CHA</td><td>PG</td><td>80</td><td>2738</td><td>588</td><td>1363</td><td>231</td><td>601</td><td>⋯</td><td> 92</td><td>179</td><td> 24</td><td> 98</td><td>0</td><td>1770</td><td> 0</td><td>0</td><td>0</td><td>80</td></tr>\n",
              "\t<tr><th scope=row>520</th><td>NBA</td><td>Lou Williams    </td><td>LAC</td><td>SG</td><td>79</td><td>2589</td><td>582</td><td>1337</td><td>186</td><td>518</td><td>⋯</td><td> 85</td><td>234</td><td> 20</td><td>106</td><td>0</td><td>1782</td><td> 2</td><td>0</td><td>0</td><td>19</td></tr>\n",
              "\t<tr><th scope=row>174</th><td>NBA</td><td>Paul George     </td><td>OKL</td><td>SF</td><td>79</td><td>2892</td><td>576</td><td>1340</td><td>244</td><td>609</td><td>⋯</td><td>161</td><td>212</td><td> 39</td><td>232</td><td>1</td><td>1734</td><td> 6</td><td>0</td><td>0</td><td>79</td></tr>\n",
              "\t<tr><th scope=row>480</th><td>NBA</td><td>Klay Thompson   </td><td>GSW</td><td>SG</td><td>73</td><td>2491</td><td>575</td><td>1179</td><td>229</td><td>519</td><td>⋯</td><td> 56</td><td>128</td><td> 34</td><td>117</td><td>0</td><td>1461</td><td> 1</td><td>0</td><td>0</td><td>73</td></tr>\n",
              "</tbody>\n",
              "</table>\n"
            ]
          },
          "metadata": {
            "tags": []
          }
        }
      ]
    },
    {
      "cell_type": "code",
      "metadata": {
        "colab": {
          "base_uri": "https://localhost:8080/",
          "height": 852
        },
        "id": "B43KkwxbedKr",
        "outputId": "d10a0e5d-7298-4229-a89a-c8b29cfa0a14"
      },
      "source": [
        "subset(NBA1718,Team==\"CLE\")"
      ],
      "execution_count": 8,
      "outputs": [
        {
          "output_type": "display_data",
          "data": {
            "text/plain": [
              "    League Name             Team Position GamesPlayed TotalMinutesPlayed\n",
              "82  NBA    Jose Calderon    CLE  PG       57           915              \n",
              "98  NBA    Jordan Clarkson  CLE  PG       81          1885              \n",
              "191 NBA    Jeff Green       CLE  SF       78          1829              \n",
              "217 NBA    George Hill      CLE  PG       67          1810              \n",
              "222 NBA    John Holland     CLE  SG       22           176              \n",
              "225 NBA    Rodney Hood      CLE  SG       60          1613              \n",
              "248 NBA    Lebron James     CLE  SF       82          3024              \n",
              "278 NBA    Kyle Korver      CLE  SG       73          1573              \n",
              "304 NBA    Kevin Love       CLE  PF       59          1653              \n",
              "364 NBA    Larry Nance      CLE  PF       66          1420              \n",
              "385 NBA    Cedi Osman       CLE  SF       58           668              \n",
              "401 NBA    Kendrick Perkins CLE  C         1            15              \n",
              "402 NBA    London Perrantes CLE  PG       12            66              \n",
              "448 NBA    Iman Shumpert    CLE  SG       14           277              \n",
              "460 NBA    Jr Smith         CLE  SG       80          2247              \n",
              "481 NBA    Tristan Thompson CLE  C        53          1072              \n",
              "539 NBA    Ante Zizic       CLE  PF       31           217              \n",
              "    FieldGoalsMade FieldGoalsAttempted ThreesMade ThreesAttempted ⋯ Steals\n",
              "82   93             185                 45         97             ⋯  27   \n",
              "98  430             954                112        318             ⋯  58   \n",
              "191 295             619                 53        170             ⋯  41   \n",
              "217 236             512                 85        204             ⋯  62   \n",
              "222  17              59                 11         36             ⋯   7   \n",
              "225 322             751                127        333             ⋯  45   \n",
              "248 857            1580                149        406             ⋯ 117   \n",
              "278 222             484                164        376             ⋯  31   \n",
              "304 334             730                137        330             ⋯  43   \n",
              "364 240             414                  2         12             ⋯  89   \n",
              "385  90             186                 32         87             ⋯  22   \n",
              "401   1               2                  0          0             ⋯   1   \n",
              "402   2              12                  0          2             ⋯   2   \n",
              "448  22              58                  7         26             ⋯   9   \n",
              "460 240             595                143        381             ⋯  68   \n",
              "481 132             236                  0          0             ⋯  16   \n",
              "539  49              67                  0          0             ⋯   2   \n",
              "    Turnovers Blocks PersonalFouls Disqualifications TotalPoints Technicals\n",
              "82   41        2      81           0                  255        0         \n",
              "98  127        6     107           0                 1124        3         \n",
              "191  73       34     149           0                  846        0         \n",
              "217  89       26     128           0                  667        1         \n",
              "222   8        2      10           0                   54        0         \n",
              "225  71       12     105           0                  882        2         \n",
              "248 348       71     135           0                 2251        6         \n",
              "278  55       27     130           0                  672        0         \n",
              "304  90       24     120           1                 1039        0         \n",
              "364  51       39     172           0                  573        1         \n",
              "385  32        3      78           0                  238        0         \n",
              "401   1        0       1           0                    3        0         \n",
              "402   1        1       6           0                    7        0         \n",
              "448  17        4      22           0                   62        0         \n",
              "460  81       10     161           0                  662        2         \n",
              "481  36       18     102           0                  307        1         \n",
              "539  11       13      30           0                  119        0         \n",
              "    Ejections FlagrantFouls GamesStarted\n",
              "82  0         0             32          \n",
              "98  0         0              2          \n",
              "191 0         0             14          \n",
              "217 0         0             60          \n",
              "222 0         0              0          \n",
              "225 0         0             23          \n",
              "248 0         0             82          \n",
              "278 0         0              4          \n",
              "304 0         0             59          \n",
              "364 0         0             26          \n",
              "385 0         0             12          \n",
              "401 0         0              0          \n",
              "402 0         0              0          \n",
              "448 0         0              6          \n",
              "460 0         0             61          \n",
              "481 0         0             22          \n",
              "539 0         0              2          "
            ],
            "text/latex": "A data.frame: 17 × 25\n\\begin{tabular}{r|lllllllllllllllllllll}\n  & League & Name & Team & Position & GamesPlayed & TotalMinutesPlayed & FieldGoalsMade & FieldGoalsAttempted & ThreesMade & ThreesAttempted & ⋯ & Steals & Turnovers & Blocks & PersonalFouls & Disqualifications & TotalPoints & Technicals & Ejections & FlagrantFouls & GamesStarted\\\\\n  & <fct> & <chr> & <fct> & <fct> & <int> & <int> & <int> & <int> & <int> & <int> & ⋯ & <int> & <int> & <int> & <int> & <int> & <int> & <int> & <int> & <int> & <int>\\\\\n\\hline\n\t82 & NBA & Jose Calderon    & CLE & PG & 57 &  915 &  93 &  185 &  45 &  97 & ⋯ &  27 &  41 &  2 &  81 & 0 &  255 & 0 & 0 & 0 & 32\\\\\n\t98 & NBA & Jordan Clarkson  & CLE & PG & 81 & 1885 & 430 &  954 & 112 & 318 & ⋯ &  58 & 127 &  6 & 107 & 0 & 1124 & 3 & 0 & 0 &  2\\\\\n\t191 & NBA & Jeff Green       & CLE & SF & 78 & 1829 & 295 &  619 &  53 & 170 & ⋯ &  41 &  73 & 34 & 149 & 0 &  846 & 0 & 0 & 0 & 14\\\\\n\t217 & NBA & George Hill      & CLE & PG & 67 & 1810 & 236 &  512 &  85 & 204 & ⋯ &  62 &  89 & 26 & 128 & 0 &  667 & 1 & 0 & 0 & 60\\\\\n\t222 & NBA & John Holland     & CLE & SG & 22 &  176 &  17 &   59 &  11 &  36 & ⋯ &   7 &   8 &  2 &  10 & 0 &   54 & 0 & 0 & 0 &  0\\\\\n\t225 & NBA & Rodney Hood      & CLE & SG & 60 & 1613 & 322 &  751 & 127 & 333 & ⋯ &  45 &  71 & 12 & 105 & 0 &  882 & 2 & 0 & 0 & 23\\\\\n\t248 & NBA & Lebron James     & CLE & SF & 82 & 3024 & 857 & 1580 & 149 & 406 & ⋯ & 117 & 348 & 71 & 135 & 0 & 2251 & 6 & 0 & 0 & 82\\\\\n\t278 & NBA & Kyle Korver      & CLE & SG & 73 & 1573 & 222 &  484 & 164 & 376 & ⋯ &  31 &  55 & 27 & 130 & 0 &  672 & 0 & 0 & 0 &  4\\\\\n\t304 & NBA & Kevin Love       & CLE & PF & 59 & 1653 & 334 &  730 & 137 & 330 & ⋯ &  43 &  90 & 24 & 120 & 1 & 1039 & 0 & 0 & 0 & 59\\\\\n\t364 & NBA & Larry Nance      & CLE & PF & 66 & 1420 & 240 &  414 &   2 &  12 & ⋯ &  89 &  51 & 39 & 172 & 0 &  573 & 1 & 0 & 0 & 26\\\\\n\t385 & NBA & Cedi Osman       & CLE & SF & 58 &  668 &  90 &  186 &  32 &  87 & ⋯ &  22 &  32 &  3 &  78 & 0 &  238 & 0 & 0 & 0 & 12\\\\\n\t401 & NBA & Kendrick Perkins & CLE & C  &  1 &   15 &   1 &    2 &   0 &   0 & ⋯ &   1 &   1 &  0 &   1 & 0 &    3 & 0 & 0 & 0 &  0\\\\\n\t402 & NBA & London Perrantes & CLE & PG & 12 &   66 &   2 &   12 &   0 &   2 & ⋯ &   2 &   1 &  1 &   6 & 0 &    7 & 0 & 0 & 0 &  0\\\\\n\t448 & NBA & Iman Shumpert    & CLE & SG & 14 &  277 &  22 &   58 &   7 &  26 & ⋯ &   9 &  17 &  4 &  22 & 0 &   62 & 0 & 0 & 0 &  6\\\\\n\t460 & NBA & Jr Smith         & CLE & SG & 80 & 2247 & 240 &  595 & 143 & 381 & ⋯ &  68 &  81 & 10 & 161 & 0 &  662 & 2 & 0 & 0 & 61\\\\\n\t481 & NBA & Tristan Thompson & CLE & C  & 53 & 1072 & 132 &  236 &   0 &   0 & ⋯ &  16 &  36 & 18 & 102 & 0 &  307 & 1 & 0 & 0 & 22\\\\\n\t539 & NBA & Ante Zizic       & CLE & PF & 31 &  217 &  49 &   67 &   0 &   0 & ⋯ &   2 &  11 & 13 &  30 & 0 &  119 & 0 & 0 & 0 &  2\\\\\n\\end{tabular}\n",
            "text/markdown": "\nA data.frame: 17 × 25\n\n| <!--/--> | League &lt;fct&gt; | Name &lt;chr&gt; | Team &lt;fct&gt; | Position &lt;fct&gt; | GamesPlayed &lt;int&gt; | TotalMinutesPlayed &lt;int&gt; | FieldGoalsMade &lt;int&gt; | FieldGoalsAttempted &lt;int&gt; | ThreesMade &lt;int&gt; | ThreesAttempted &lt;int&gt; | ⋯ ⋯ | Steals &lt;int&gt; | Turnovers &lt;int&gt; | Blocks &lt;int&gt; | PersonalFouls &lt;int&gt; | Disqualifications &lt;int&gt; | TotalPoints &lt;int&gt; | Technicals &lt;int&gt; | Ejections &lt;int&gt; | FlagrantFouls &lt;int&gt; | GamesStarted &lt;int&gt; |\n|---|---|---|---|---|---|---|---|---|---|---|---|---|---|---|---|---|---|---|---|---|---|\n| 82 | NBA | Jose Calderon    | CLE | PG | 57 |  915 |  93 |  185 |  45 |  97 | ⋯ |  27 |  41 |  2 |  81 | 0 |  255 | 0 | 0 | 0 | 32 |\n| 98 | NBA | Jordan Clarkson  | CLE | PG | 81 | 1885 | 430 |  954 | 112 | 318 | ⋯ |  58 | 127 |  6 | 107 | 0 | 1124 | 3 | 0 | 0 |  2 |\n| 191 | NBA | Jeff Green       | CLE | SF | 78 | 1829 | 295 |  619 |  53 | 170 | ⋯ |  41 |  73 | 34 | 149 | 0 |  846 | 0 | 0 | 0 | 14 |\n| 217 | NBA | George Hill      | CLE | PG | 67 | 1810 | 236 |  512 |  85 | 204 | ⋯ |  62 |  89 | 26 | 128 | 0 |  667 | 1 | 0 | 0 | 60 |\n| 222 | NBA | John Holland     | CLE | SG | 22 |  176 |  17 |   59 |  11 |  36 | ⋯ |   7 |   8 |  2 |  10 | 0 |   54 | 0 | 0 | 0 |  0 |\n| 225 | NBA | Rodney Hood      | CLE | SG | 60 | 1613 | 322 |  751 | 127 | 333 | ⋯ |  45 |  71 | 12 | 105 | 0 |  882 | 2 | 0 | 0 | 23 |\n| 248 | NBA | Lebron James     | CLE | SF | 82 | 3024 | 857 | 1580 | 149 | 406 | ⋯ | 117 | 348 | 71 | 135 | 0 | 2251 | 6 | 0 | 0 | 82 |\n| 278 | NBA | Kyle Korver      | CLE | SG | 73 | 1573 | 222 |  484 | 164 | 376 | ⋯ |  31 |  55 | 27 | 130 | 0 |  672 | 0 | 0 | 0 |  4 |\n| 304 | NBA | Kevin Love       | CLE | PF | 59 | 1653 | 334 |  730 | 137 | 330 | ⋯ |  43 |  90 | 24 | 120 | 1 | 1039 | 0 | 0 | 0 | 59 |\n| 364 | NBA | Larry Nance      | CLE | PF | 66 | 1420 | 240 |  414 |   2 |  12 | ⋯ |  89 |  51 | 39 | 172 | 0 |  573 | 1 | 0 | 0 | 26 |\n| 385 | NBA | Cedi Osman       | CLE | SF | 58 |  668 |  90 |  186 |  32 |  87 | ⋯ |  22 |  32 |  3 |  78 | 0 |  238 | 0 | 0 | 0 | 12 |\n| 401 | NBA | Kendrick Perkins | CLE | C  |  1 |   15 |   1 |    2 |   0 |   0 | ⋯ |   1 |   1 |  0 |   1 | 0 |    3 | 0 | 0 | 0 |  0 |\n| 402 | NBA | London Perrantes | CLE | PG | 12 |   66 |   2 |   12 |   0 |   2 | ⋯ |   2 |   1 |  1 |   6 | 0 |    7 | 0 | 0 | 0 |  0 |\n| 448 | NBA | Iman Shumpert    | CLE | SG | 14 |  277 |  22 |   58 |   7 |  26 | ⋯ |   9 |  17 |  4 |  22 | 0 |   62 | 0 | 0 | 0 |  6 |\n| 460 | NBA | Jr Smith         | CLE | SG | 80 | 2247 | 240 |  595 | 143 | 381 | ⋯ |  68 |  81 | 10 | 161 | 0 |  662 | 2 | 0 | 0 | 61 |\n| 481 | NBA | Tristan Thompson | CLE | C  | 53 | 1072 | 132 |  236 |   0 |   0 | ⋯ |  16 |  36 | 18 | 102 | 0 |  307 | 1 | 0 | 0 | 22 |\n| 539 | NBA | Ante Zizic       | CLE | PF | 31 |  217 |  49 |   67 |   0 |   0 | ⋯ |   2 |  11 | 13 |  30 | 0 |  119 | 0 | 0 | 0 |  2 |\n\n",
            "text/html": [
              "<table class=\"dataframe\">\n",
              "<caption>A data.frame: 17 × 25</caption>\n",
              "<thead>\n",
              "\t<tr><th></th><th scope=col>League</th><th scope=col>Name</th><th scope=col>Team</th><th scope=col>Position</th><th scope=col>GamesPlayed</th><th scope=col>TotalMinutesPlayed</th><th scope=col>FieldGoalsMade</th><th scope=col>FieldGoalsAttempted</th><th scope=col>ThreesMade</th><th scope=col>ThreesAttempted</th><th scope=col>⋯</th><th scope=col>Steals</th><th scope=col>Turnovers</th><th scope=col>Blocks</th><th scope=col>PersonalFouls</th><th scope=col>Disqualifications</th><th scope=col>TotalPoints</th><th scope=col>Technicals</th><th scope=col>Ejections</th><th scope=col>FlagrantFouls</th><th scope=col>GamesStarted</th></tr>\n",
              "\t<tr><th></th><th scope=col>&lt;fct&gt;</th><th scope=col>&lt;chr&gt;</th><th scope=col>&lt;fct&gt;</th><th scope=col>&lt;fct&gt;</th><th scope=col>&lt;int&gt;</th><th scope=col>&lt;int&gt;</th><th scope=col>&lt;int&gt;</th><th scope=col>&lt;int&gt;</th><th scope=col>&lt;int&gt;</th><th scope=col>&lt;int&gt;</th><th scope=col>⋯</th><th scope=col>&lt;int&gt;</th><th scope=col>&lt;int&gt;</th><th scope=col>&lt;int&gt;</th><th scope=col>&lt;int&gt;</th><th scope=col>&lt;int&gt;</th><th scope=col>&lt;int&gt;</th><th scope=col>&lt;int&gt;</th><th scope=col>&lt;int&gt;</th><th scope=col>&lt;int&gt;</th><th scope=col>&lt;int&gt;</th></tr>\n",
              "</thead>\n",
              "<tbody>\n",
              "\t<tr><th scope=row>82</th><td>NBA</td><td>Jose Calderon   </td><td>CLE</td><td>PG</td><td>57</td><td> 915</td><td> 93</td><td> 185</td><td> 45</td><td> 97</td><td>⋯</td><td> 27</td><td> 41</td><td> 2</td><td> 81</td><td>0</td><td> 255</td><td>0</td><td>0</td><td>0</td><td>32</td></tr>\n",
              "\t<tr><th scope=row>98</th><td>NBA</td><td>Jordan Clarkson </td><td>CLE</td><td>PG</td><td>81</td><td>1885</td><td>430</td><td> 954</td><td>112</td><td>318</td><td>⋯</td><td> 58</td><td>127</td><td> 6</td><td>107</td><td>0</td><td>1124</td><td>3</td><td>0</td><td>0</td><td> 2</td></tr>\n",
              "\t<tr><th scope=row>191</th><td>NBA</td><td>Jeff Green      </td><td>CLE</td><td>SF</td><td>78</td><td>1829</td><td>295</td><td> 619</td><td> 53</td><td>170</td><td>⋯</td><td> 41</td><td> 73</td><td>34</td><td>149</td><td>0</td><td> 846</td><td>0</td><td>0</td><td>0</td><td>14</td></tr>\n",
              "\t<tr><th scope=row>217</th><td>NBA</td><td>George Hill     </td><td>CLE</td><td>PG</td><td>67</td><td>1810</td><td>236</td><td> 512</td><td> 85</td><td>204</td><td>⋯</td><td> 62</td><td> 89</td><td>26</td><td>128</td><td>0</td><td> 667</td><td>1</td><td>0</td><td>0</td><td>60</td></tr>\n",
              "\t<tr><th scope=row>222</th><td>NBA</td><td>John Holland    </td><td>CLE</td><td>SG</td><td>22</td><td> 176</td><td> 17</td><td>  59</td><td> 11</td><td> 36</td><td>⋯</td><td>  7</td><td>  8</td><td> 2</td><td> 10</td><td>0</td><td>  54</td><td>0</td><td>0</td><td>0</td><td> 0</td></tr>\n",
              "\t<tr><th scope=row>225</th><td>NBA</td><td>Rodney Hood     </td><td>CLE</td><td>SG</td><td>60</td><td>1613</td><td>322</td><td> 751</td><td>127</td><td>333</td><td>⋯</td><td> 45</td><td> 71</td><td>12</td><td>105</td><td>0</td><td> 882</td><td>2</td><td>0</td><td>0</td><td>23</td></tr>\n",
              "\t<tr><th scope=row>248</th><td>NBA</td><td>Lebron James    </td><td>CLE</td><td>SF</td><td>82</td><td>3024</td><td>857</td><td>1580</td><td>149</td><td>406</td><td>⋯</td><td>117</td><td>348</td><td>71</td><td>135</td><td>0</td><td>2251</td><td>6</td><td>0</td><td>0</td><td>82</td></tr>\n",
              "\t<tr><th scope=row>278</th><td>NBA</td><td>Kyle Korver     </td><td>CLE</td><td>SG</td><td>73</td><td>1573</td><td>222</td><td> 484</td><td>164</td><td>376</td><td>⋯</td><td> 31</td><td> 55</td><td>27</td><td>130</td><td>0</td><td> 672</td><td>0</td><td>0</td><td>0</td><td> 4</td></tr>\n",
              "\t<tr><th scope=row>304</th><td>NBA</td><td>Kevin Love      </td><td>CLE</td><td>PF</td><td>59</td><td>1653</td><td>334</td><td> 730</td><td>137</td><td>330</td><td>⋯</td><td> 43</td><td> 90</td><td>24</td><td>120</td><td>1</td><td>1039</td><td>0</td><td>0</td><td>0</td><td>59</td></tr>\n",
              "\t<tr><th scope=row>364</th><td>NBA</td><td>Larry Nance     </td><td>CLE</td><td>PF</td><td>66</td><td>1420</td><td>240</td><td> 414</td><td>  2</td><td> 12</td><td>⋯</td><td> 89</td><td> 51</td><td>39</td><td>172</td><td>0</td><td> 573</td><td>1</td><td>0</td><td>0</td><td>26</td></tr>\n",
              "\t<tr><th scope=row>385</th><td>NBA</td><td>Cedi Osman      </td><td>CLE</td><td>SF</td><td>58</td><td> 668</td><td> 90</td><td> 186</td><td> 32</td><td> 87</td><td>⋯</td><td> 22</td><td> 32</td><td> 3</td><td> 78</td><td>0</td><td> 238</td><td>0</td><td>0</td><td>0</td><td>12</td></tr>\n",
              "\t<tr><th scope=row>401</th><td>NBA</td><td>Kendrick Perkins</td><td>CLE</td><td>C </td><td> 1</td><td>  15</td><td>  1</td><td>   2</td><td>  0</td><td>  0</td><td>⋯</td><td>  1</td><td>  1</td><td> 0</td><td>  1</td><td>0</td><td>   3</td><td>0</td><td>0</td><td>0</td><td> 0</td></tr>\n",
              "\t<tr><th scope=row>402</th><td>NBA</td><td>London Perrantes</td><td>CLE</td><td>PG</td><td>12</td><td>  66</td><td>  2</td><td>  12</td><td>  0</td><td>  2</td><td>⋯</td><td>  2</td><td>  1</td><td> 1</td><td>  6</td><td>0</td><td>   7</td><td>0</td><td>0</td><td>0</td><td> 0</td></tr>\n",
              "\t<tr><th scope=row>448</th><td>NBA</td><td>Iman Shumpert   </td><td>CLE</td><td>SG</td><td>14</td><td> 277</td><td> 22</td><td>  58</td><td>  7</td><td> 26</td><td>⋯</td><td>  9</td><td> 17</td><td> 4</td><td> 22</td><td>0</td><td>  62</td><td>0</td><td>0</td><td>0</td><td> 6</td></tr>\n",
              "\t<tr><th scope=row>460</th><td>NBA</td><td>Jr Smith        </td><td>CLE</td><td>SG</td><td>80</td><td>2247</td><td>240</td><td> 595</td><td>143</td><td>381</td><td>⋯</td><td> 68</td><td> 81</td><td>10</td><td>161</td><td>0</td><td> 662</td><td>2</td><td>0</td><td>0</td><td>61</td></tr>\n",
              "\t<tr><th scope=row>481</th><td>NBA</td><td>Tristan Thompson</td><td>CLE</td><td>C </td><td>53</td><td>1072</td><td>132</td><td> 236</td><td>  0</td><td>  0</td><td>⋯</td><td> 16</td><td> 36</td><td>18</td><td>102</td><td>0</td><td> 307</td><td>1</td><td>0</td><td>0</td><td>22</td></tr>\n",
              "\t<tr><th scope=row>539</th><td>NBA</td><td>Ante Zizic      </td><td>CLE</td><td>PF</td><td>31</td><td> 217</td><td> 49</td><td>  67</td><td>  0</td><td>  0</td><td>⋯</td><td>  2</td><td> 11</td><td>13</td><td> 30</td><td>0</td><td> 119</td><td>0</td><td>0</td><td>0</td><td> 2</td></tr>\n",
              "</tbody>\n",
              "</table>\n"
            ]
          },
          "metadata": {
            "tags": []
          }
        }
      ]
    },
    {
      "cell_type": "code",
      "metadata": {
        "colab": {
          "base_uri": "https://localhost:8080/",
          "height": 160
        },
        "id": "TB1Jkrm7e77b",
        "outputId": "d5b5ec49-c0f9-4bf8-8b13-8d6895d64061"
      },
      "source": [
        "NBA1718[grepl(\"Lebron James\",NBA1718$Name),]"
      ],
      "execution_count": 12,
      "outputs": [
        {
          "output_type": "display_data",
          "data": {
            "text/plain": [
              "    League Name         Team Position GamesPlayed TotalMinutesPlayed\n",
              "248 NBA    Lebron James CLE  SF       82          3024              \n",
              "    FieldGoalsMade FieldGoalsAttempted ThreesMade ThreesAttempted ⋯ Steals\n",
              "248 857            1580                149        406             ⋯ 117   \n",
              "    Turnovers Blocks PersonalFouls Disqualifications TotalPoints Technicals\n",
              "248 348       71     135           0                 2251        6         \n",
              "    Ejections FlagrantFouls GamesStarted\n",
              "248 0         0             82          "
            ],
            "text/latex": "A data.frame: 1 × 25\n\\begin{tabular}{r|lllllllllllllllllllll}\n  & League & Name & Team & Position & GamesPlayed & TotalMinutesPlayed & FieldGoalsMade & FieldGoalsAttempted & ThreesMade & ThreesAttempted & ⋯ & Steals & Turnovers & Blocks & PersonalFouls & Disqualifications & TotalPoints & Technicals & Ejections & FlagrantFouls & GamesStarted\\\\\n  & <fct> & <chr> & <fct> & <fct> & <int> & <int> & <int> & <int> & <int> & <int> & ⋯ & <int> & <int> & <int> & <int> & <int> & <int> & <int> & <int> & <int> & <int>\\\\\n\\hline\n\t248 & NBA & Lebron James & CLE & SF & 82 & 3024 & 857 & 1580 & 149 & 406 & ⋯ & 117 & 348 & 71 & 135 & 0 & 2251 & 6 & 0 & 0 & 82\\\\\n\\end{tabular}\n",
            "text/markdown": "\nA data.frame: 1 × 25\n\n| <!--/--> | League &lt;fct&gt; | Name &lt;chr&gt; | Team &lt;fct&gt; | Position &lt;fct&gt; | GamesPlayed &lt;int&gt; | TotalMinutesPlayed &lt;int&gt; | FieldGoalsMade &lt;int&gt; | FieldGoalsAttempted &lt;int&gt; | ThreesMade &lt;int&gt; | ThreesAttempted &lt;int&gt; | ⋯ ⋯ | Steals &lt;int&gt; | Turnovers &lt;int&gt; | Blocks &lt;int&gt; | PersonalFouls &lt;int&gt; | Disqualifications &lt;int&gt; | TotalPoints &lt;int&gt; | Technicals &lt;int&gt; | Ejections &lt;int&gt; | FlagrantFouls &lt;int&gt; | GamesStarted &lt;int&gt; |\n|---|---|---|---|---|---|---|---|---|---|---|---|---|---|---|---|---|---|---|---|---|---|\n| 248 | NBA | Lebron James | CLE | SF | 82 | 3024 | 857 | 1580 | 149 | 406 | ⋯ | 117 | 348 | 71 | 135 | 0 | 2251 | 6 | 0 | 0 | 82 |\n\n",
            "text/html": [
              "<table class=\"dataframe\">\n",
              "<caption>A data.frame: 1 × 25</caption>\n",
              "<thead>\n",
              "\t<tr><th></th><th scope=col>League</th><th scope=col>Name</th><th scope=col>Team</th><th scope=col>Position</th><th scope=col>GamesPlayed</th><th scope=col>TotalMinutesPlayed</th><th scope=col>FieldGoalsMade</th><th scope=col>FieldGoalsAttempted</th><th scope=col>ThreesMade</th><th scope=col>ThreesAttempted</th><th scope=col>⋯</th><th scope=col>Steals</th><th scope=col>Turnovers</th><th scope=col>Blocks</th><th scope=col>PersonalFouls</th><th scope=col>Disqualifications</th><th scope=col>TotalPoints</th><th scope=col>Technicals</th><th scope=col>Ejections</th><th scope=col>FlagrantFouls</th><th scope=col>GamesStarted</th></tr>\n",
              "\t<tr><th></th><th scope=col>&lt;fct&gt;</th><th scope=col>&lt;chr&gt;</th><th scope=col>&lt;fct&gt;</th><th scope=col>&lt;fct&gt;</th><th scope=col>&lt;int&gt;</th><th scope=col>&lt;int&gt;</th><th scope=col>&lt;int&gt;</th><th scope=col>&lt;int&gt;</th><th scope=col>&lt;int&gt;</th><th scope=col>&lt;int&gt;</th><th scope=col>⋯</th><th scope=col>&lt;int&gt;</th><th scope=col>&lt;int&gt;</th><th scope=col>&lt;int&gt;</th><th scope=col>&lt;int&gt;</th><th scope=col>&lt;int&gt;</th><th scope=col>&lt;int&gt;</th><th scope=col>&lt;int&gt;</th><th scope=col>&lt;int&gt;</th><th scope=col>&lt;int&gt;</th><th scope=col>&lt;int&gt;</th></tr>\n",
              "</thead>\n",
              "<tbody>\n",
              "\t<tr><th scope=row>248</th><td>NBA</td><td>Lebron James</td><td>CLE</td><td>SF</td><td>82</td><td>3024</td><td>857</td><td>1580</td><td>149</td><td>406</td><td>⋯</td><td>117</td><td>348</td><td>71</td><td>135</td><td>0</td><td>2251</td><td>6</td><td>0</td><td>0</td><td>82</td></tr>\n",
              "</tbody>\n",
              "</table>\n"
            ]
          },
          "metadata": {
            "tags": []
          }
        }
      ]
    },
    {
      "cell_type": "code",
      "metadata": {
        "colab": {
          "base_uri": "https://localhost:8080/"
        },
        "id": "oEvTIsG_fVpz",
        "outputId": "6e39477f-cd8a-4f7d-d003-ad0f311b77d3"
      },
      "source": [
        "pkgs<-c(\"tidyverse\",\"lubridate\")\n",
        "install.packages(pkgs)"
      ],
      "execution_count": 13,
      "outputs": [
        {
          "output_type": "stream",
          "text": [
            "Installing packages into ‘/usr/local/lib/R/site-library’\n",
            "(as ‘lib’ is unspecified)\n",
            "\n"
          ],
          "name": "stderr"
        }
      ]
    },
    {
      "cell_type": "code",
      "metadata": {
        "colab": {
          "base_uri": "https://localhost:8080/"
        },
        "id": "wh91yT1NgnAk",
        "outputId": "cadc2f85-0c30-4973-bb9c-b39d05aabbc3"
      },
      "source": [
        "library(tidyverse)\n",
        "library(lubridate)"
      ],
      "execution_count": 14,
      "outputs": [
        {
          "output_type": "stream",
          "text": [
            "Warning message in system(\"timedatectl\", intern = TRUE):\n",
            "“running command 'timedatectl' had status 1”\n",
            "── \u001b[1mAttaching packages\u001b[22m ─────────────────────────────────────── tidyverse 1.3.1 ──\n",
            "\n",
            "\u001b[32m✔\u001b[39m \u001b[34mggplot2\u001b[39m 3.3.3     \u001b[32m✔\u001b[39m \u001b[34mpurrr  \u001b[39m 0.3.4\n",
            "\u001b[32m✔\u001b[39m \u001b[34mtibble \u001b[39m 3.1.1     \u001b[32m✔\u001b[39m \u001b[34mdplyr  \u001b[39m 1.0.5\n",
            "\u001b[32m✔\u001b[39m \u001b[34mtidyr  \u001b[39m 1.1.3     \u001b[32m✔\u001b[39m \u001b[34mstringr\u001b[39m 1.4.0\n",
            "\u001b[32m✔\u001b[39m \u001b[34mreadr  \u001b[39m 1.4.0     \u001b[32m✔\u001b[39m \u001b[34mforcats\u001b[39m 0.5.1\n",
            "\n",
            "── \u001b[1mConflicts\u001b[22m ────────────────────────────────────────── tidyverse_conflicts() ──\n",
            "\u001b[31m✖\u001b[39m \u001b[34mdplyr\u001b[39m::\u001b[32mfilter()\u001b[39m masks \u001b[34mstats\u001b[39m::filter()\n",
            "\u001b[31m✖\u001b[39m \u001b[34mdplyr\u001b[39m::\u001b[32mlag()\u001b[39m    masks \u001b[34mstats\u001b[39m::lag()\n",
            "\n",
            "\n",
            "Attaching package: ‘lubridate’\n",
            "\n",
            "\n",
            "The following objects are masked from ‘package:base’:\n",
            "\n",
            "    date, intersect, setdiff, union\n",
            "\n",
            "\n"
          ],
          "name": "stderr"
        }
      ]
    },
    {
      "cell_type": "code",
      "metadata": {
        "id": "zkWvVQpti_nc"
      },
      "source": [
        "nobel<- read.csv(\"nobel_winners.csv\")"
      ],
      "execution_count": 21,
      "outputs": []
    },
    {
      "cell_type": "code",
      "metadata": {
        "colab": {
          "base_uri": "https://localhost:8080/",
          "height": 271
        },
        "id": "er1xgqX2izWV",
        "outputId": "b099750a-6b82-43c5-9de0-190d3b60dfa4"
      },
      "source": [
        "nobel %>% count(category)"
      ],
      "execution_count": 22,
      "outputs": [
        {
          "output_type": "display_data",
          "data": {
            "text/plain": [
              "  category   n  \n",
              "1 Chemistry  194\n",
              "2 Economics   83\n",
              "3 Literature 113\n",
              "4 Medicine   227\n",
              "5 Peace      130\n",
              "6 Physics    222"
            ],
            "text/latex": "A data.frame: 6 × 2\n\\begin{tabular}{ll}\n category & n\\\\\n <chr> & <int>\\\\\n\\hline\n\t Chemistry  & 194\\\\\n\t Economics  &  83\\\\\n\t Literature & 113\\\\\n\t Medicine   & 227\\\\\n\t Peace      & 130\\\\\n\t Physics    & 222\\\\\n\\end{tabular}\n",
            "text/markdown": "\nA data.frame: 6 × 2\n\n| category &lt;chr&gt; | n &lt;int&gt; |\n|---|---|\n| Chemistry  | 194 |\n| Economics  |  83 |\n| Literature | 113 |\n| Medicine   | 227 |\n| Peace      | 130 |\n| Physics    | 222 |\n\n",
            "text/html": [
              "<table class=\"dataframe\">\n",
              "<caption>A data.frame: 6 × 2</caption>\n",
              "<thead>\n",
              "\t<tr><th scope=col>category</th><th scope=col>n</th></tr>\n",
              "\t<tr><th scope=col>&lt;chr&gt;</th><th scope=col>&lt;int&gt;</th></tr>\n",
              "</thead>\n",
              "<tbody>\n",
              "\t<tr><td>Chemistry </td><td>194</td></tr>\n",
              "\t<tr><td>Economics </td><td> 83</td></tr>\n",
              "\t<tr><td>Literature</td><td>113</td></tr>\n",
              "\t<tr><td>Medicine  </td><td>227</td></tr>\n",
              "\t<tr><td>Peace     </td><td>130</td></tr>\n",
              "\t<tr><td>Physics   </td><td>222</td></tr>\n",
              "</tbody>\n",
              "</table>\n"
            ]
          },
          "metadata": {
            "tags": []
          }
        }
      ]
    },
    {
      "cell_type": "code",
      "metadata": {
        "colab": {
          "base_uri": "https://localhost:8080/",
          "height": 437
        },
        "id": "ploGCc0Og3QU",
        "outputId": "dbc3a69f-1eb4-4da7-a46a-ac80088b9025"
      },
      "source": [
        "nobel %>%\n",
        " count(category) %>%\n",
        " ggplot(aes(x=category,y=n,fill=category))+\n",
        " geom_col()+\n",
        " geom_text(aes(label=n),vjust=-0.25)+\n",
        " labs(title=\"不同學科諾貝獎獲獎次數對比\",x=\"學科\",y=\"數量\")+theme(legend.position=\"none\")"
      ],
      "execution_count": 41,
      "outputs": [
        {
          "output_type": "display_data",
          "data": {
            "image/png": "[encoded data removed]",
            "text/plain": [
              "plot without title"
            ]
          },
          "metadata": {
            "tags": [],
            "image/png": {
              "width": 420,
              "height": 420
            }
          }
        }
      ]
    },
    {
      "cell_type": "code",
      "metadata": {
        "id": "si_9nIzKrU5P"
      },
      "source": [
        ""
      ],
      "execution_count": null,
      "outputs": []
    },
    {
      "cell_type": "code",
      "metadata": {
        "colab": {
          "base_uri": "https://localhost:8080/",
          "height": 437
        },
        "id": "p-K1N_kPrV_S",
        "outputId": "32bfb0b0-2a6e-4ff1-fb9e-e585ddf880bf"
      },
      "source": [
        "nobel %>%\n",
        " count(category) %>%\n",
        " ggplot(aes(x=category,y=n,fill=category))+\n",
        " geom_point()+\n",
        " geom_text(aes(label=n),vjust=-0.25)+\n",
        " labs(title=\"不同學科諾貝獎獲獎次數對比\",x=\"學科\",y=\"數量\")+theme(legend.position=\"none\")"
      ],
      "execution_count": 42,
      "outputs": [
        {
          "output_type": "display_data",
          "data": {
            "image/png": "[encoded data removed]",
            "text/plain": [
              "plot without title"
            ]
          },
          "metadata": {
            "tags": [],
            "image/png": {
              "width": 420,
              "height": 420
            }
          }
        }
      ]
    },
    {
      "cell_type": "code",
      "metadata": {
        "id": "FYsfE9vGrdaZ"
      },
      "source": [
        ""
      ],
      "execution_count": null,
      "outputs": []
    }
  ]
}